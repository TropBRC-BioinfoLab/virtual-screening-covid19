{
 "cells": [
  {
   "cell_type": "code",
   "execution_count": null,
   "metadata": {},
   "outputs": [],
   "source": []
  },
  {
   "cell_type": "code",
   "execution_count": 1,
   "metadata": {},
   "outputs": [],
   "source": [
    "import numpy as np\n",
    "import pandas as pd\n",
    "\n",
    "from sklearn.metrics import classification_report\n",
    "from sklearn.metrics import confusion_matrix\n",
    "from sklearn.metrics import accuracy_score,f1_score, precision_score, recall_score, roc_auc_score\n",
    "\n",
    "from sklearn.svm import SVC\n",
    "from sklearn.ensemble import RandomForestClassifier\n",
    "from sklearn.model_selection import cross_val_score, GridSearchCV\n",
    "\n",
    "import pickle\n",
    "\n",
    "from sklearn.ensemble import BaggingClassifier\n",
    "from sklearn.tree import DecisionTreeClassifier"
   ]
  },
  {
   "cell_type": "code",
   "execution_count": 2,
   "metadata": {},
   "outputs": [],
   "source": [
    "#a"
   ]
  },
  {
   "cell_type": "code",
   "execution_count": 12,
   "metadata": {},
   "outputs": [],
   "source": [
    "class uji(): \n",
    "    def __init__(self,data): \n",
    "        df0 = pd.read_csv('../data2_smpl30/uji%snorm.csv'%data, delimiter= \",\", header=None)\n",
    "        df0=df0.fillna(0)\n",
    "        self.com=df0[0]\n",
    "        self.prot=df0[1282]\n",
    "        self.x =df0.drop([0,1282], axis=1)\n",
    "        df0[1300]=0\n",
    "        \n",
    "        self.y=df0[1300]\n",
    "        self.dt=data\n",
    "class latih(): \n",
    "    def __init__(self,data): \n",
    "        df = pd.read_csv(\"../data2_smpl30/%s.csv\"%data, delimiter=',')\n",
    "        df.head()\n",
    "        self.X = df.drop(['label'], axis=1)\n",
    "        self.Y = df['label']\n",
    "        self.dt=data\n",
    "class uji3(): \n",
    "    def __init__(self,data): \n",
    "        df0 = pd.read_csv('../data2_smpl30/%s.csv'%data, delimiter= \";\", header=None)\n",
    "        df0=df0.fillna(0)\n",
    "        self.com_search=df0[0]\n",
    "        self.com_id=df0[1]\n",
    "        self.com=df0[2]\n",
    "        self.prot=df0[1284]\n",
    "        self.x =df0.drop([0,1,2,1284], axis=1)\n",
    "        df0[1300]=0\n",
    "        \n",
    "        self.y=df0[1300]\n",
    "        self.dt=data\n",
    "def dtuji(data): \n",
    "    return uji(data) \n",
    "def dtlatih(data): \n",
    "    return latih(data) \n",
    "def dtuji3(data): \n",
    "    return uji3(data) \n",
    "\n",
    "\n",
    "dtf =dtuji('mbafika') #dtf.com, dtf.prot, dtf.x, dtf.y, dtf.dt\n",
    "dtl =dtuji('mbalinda') #dtl.com, dtl.prot, dtl.x, dtl.y dtl.dt\n",
    "dtg2 = dtuji3('uji_legetan')\n",
    "dtg3 = dtuji3('uji_inhibitcox2')"
   ]
  },
  {
   "cell_type": "code",
   "execution_count": 13,
   "metadata": {},
   "outputs": [],
   "source": [
    "dtg =dtuji('gabung') #dtl.com, dtl.prot, dtl.x, dtl.y dtl.dt"
   ]
  },
  {
   "cell_type": "code",
   "execution_count": 30,
   "metadata": {},
   "outputs": [],
   "source": [
    "dtt =dtuji('tambahan_2')\n",
    "dtk =dtuji('tambahan_kayuputih')"
   ]
  },
  {
   "cell_type": "code",
   "execution_count": 35,
   "metadata": {},
   "outputs": [],
   "source": [
    "dtt =dtuji('buyelfie')\n",
    "dtk =dtuji('herbaldb')"
   ]
  },
  {
   "cell_type": "code",
   "execution_count": 28,
   "metadata": {},
   "outputs": [],
   "source": [
    "def load_model(model,o):\n",
    "    rf = pickle.load(open('../data2_smpl30/model/{0}_latih_sampled30_{1}'.format(model,o), 'rb'))\n",
    "#     print('{0}_latih_sampled30_{1}'.format(model.__name__,o))\n",
    "#     print('Best parameters found:', rf.best_params_)\n",
    "#     print('AUC :',rf.cv_results_['mean_test_AUC'])\n",
    "#     print('Accuracy :',rf.cv_results_['mean_test_Accuracy'])\n",
    "#     print('F-measure :',rf.cv_results_['mean_test_F-measure'])\n",
    "#     print('Precision :',rf.cv_results_['mean_test_Precision'])\n",
    "#     print('Recall :',rf.cv_results_['mean_test_Recall'])\n",
    "    return rf"
   ]
  },
  {
   "cell_type": "code",
   "execution_count": 23,
   "metadata": {},
   "outputs": [
    {
     "name": "stderr",
     "output_type": "stream",
     "text": [
      "/home/biofarmaka/anaconda3/lib/python3.7/site-packages/IPython/core/interactiveshell.py:3325: DtypeWarning: Columns (0) have mixed types. Specify dtype option on import or set low_memory=False.\n",
      "  exec(code_obj, self.user_global_ns, self.user_ns)\n"
     ]
    }
   ],
   "source": [
    "class latih(): \n",
    "    def __init__(self,data): \n",
    "        df = pd.read_csv(\"../data2_smpl30/%s.csv\"%data, delimiter=',')\n",
    "        df.head()\n",
    "        self.X = df.drop(['0','1282','0.1'], axis=1)\n",
    "        self.Y = df['0.1']\n",
    "        self.dt=data\n",
    "\n",
    "def dtlatih(data): \n",
    "    return latih(data) \n",
    "df= dtlatih('latih_sampled30_1') #df1.X,df1.Y,df1.dt"
   ]
  },
  {
   "cell_type": "code",
   "execution_count": 24,
   "metadata": {},
   "outputs": [],
   "source": [
    "\n",
    "def prediksi(md,model,p,data,d):\n",
    "    pred_x = pd.DataFrame(md.predict_proba(data.x))\n",
    "    prob_x = pd.DataFrame(np.where(pred_x >= p, 1,0))\n",
    "    print(\"threshold {0} \".format(p))\n",
    "    print(\"{0}_latih_sampled30_{1} \".format(model,d))\n",
    "    print(\"hasil prediksi \",data.dt,\" : (0,1)\")\n",
    "    print(confusion_matrix(data.y, prob_x[1]))\n",
    "    pred = pd.DataFrame(prob_x[1])\n",
    "    pred=pred.drop([0])\n",
    "    pred[2] = data.com\n",
    "    pred[3] = data.prot\n",
    "    #print(pred.head())\n",
    "    #print(prob_x)\n",
    "    pred[4] = pred_x[1]\n",
    "    #print(pred.head())\n",
    "    #print(pd.DataFrame(prob_x)[1].head())\n",
    "    pred.to_excel('../data2_smpl30/hasil_pred/{0}_{1}p_{2}_latih_sampled30_{3}.xlsx'.format(model,p,data.dt,d))\n",
    "from sklearn.decomposition import PCA\n",
    "pca = PCA(n_components=128)# adjust yourself\n",
    "pca.fit(df.X)\n",
    "def prediksi_pca(md,model,p,data,d):\n",
    "    XX = pca.transform(data.x)\n",
    "    pred_x = pd.DataFrame(md.predict_proba(XX))\n",
    "    prob_x = pd.DataFrame(np.where(pred_x >= p, 1,0))\n",
    "    print(\"threshold {0} \".format(p))\n",
    "    print(\"{0}_latih_sampled30_{1} \".format(model,d))\n",
    "    print(\"hasil prediksi \",data.dt,\" : (0,1)\")\n",
    "    print(confusion_matrix(data.y, prob_x[1]))\n",
    "    pred = pd.DataFrame(prob_x[1])\n",
    "    pred=pred.drop([0])\n",
    "    pred[2] = data.com\n",
    "    pred[3] = data.prot\n",
    "    #print(pred.head())\n",
    "    #print(prob_x)\n",
    "    pred[4] = pred_x[1]\n",
    "    #print(pred.head())\n",
    "    #print(pd.DataFrame(prob_x)[1].head())\n",
    "    pred.to_excel('../data2_smpl30/hasil_pred/{0}_{1}p_{2}_latih_sampled30_{3}.xlsx'.format(model,p,data.dt,d))\n",
    "    "
   ]
  },
  {
   "cell_type": "code",
   "execution_count": 21,
   "metadata": {},
   "outputs": [],
   "source": [
    "def pred3(model,p,datauji1,datauji2,datauji3,d):\n",
    "    md=load_model(model,d)\n",
    "    prediksi(md,model,p,datauji1,d)\n",
    "    prediksi(md,model,p,datauji2,d)\n",
    "    prediksi(md,model,p,datauji3,d)\n",
    "def pred2(model,p,datauji1,datauji2,d):\n",
    "    md=load_model(model,d)\n",
    "    prediksi(md,model,p,datauji1,d)\n",
    "    prediksi(md,model,p,datauji2,d)\n",
    "def pred2_pca(model,p,datauji1,datauji2,d):\n",
    "    md=load_model(model,d)\n",
    "    prediksi_pca(md,model,p,datauji1,d)\n",
    "    prediksi_pca(md,model,p,datauji2,d)\n",
    "def pred(model,p,datauji1,d):\n",
    "    md=load_model(model,d)\n",
    "    prediksi(md,model,p,datauji1,d)"
   ]
  },
  {
   "cell_type": "code",
   "execution_count": 36,
   "metadata": {},
   "outputs": [
    {
     "name": "stdout",
     "output_type": "stream",
     "text": [
      "threshold 0.5 \n",
      "svm_2_latih_sampled30_2 \n",
      "hasil prediksi  buyelfie  : (0,1)\n",
      "[[984]]\n",
      "threshold 0.5 \n",
      "svm_2_latih_sampled30_2 \n",
      "hasil prediksi  herbaldb  : (0,1)\n",
      "[[6488]]\n",
      "threshold 0.5 \n",
      "svm_2_latih_sampled30_1 \n",
      "hasil prediksi  buyelfie  : (0,1)\n",
      "[[983   1]\n",
      " [  0   0]]\n",
      "threshold 0.5 \n",
      "svm_2_latih_sampled30_1 \n",
      "hasil prediksi  herbaldb  : (0,1)\n",
      "[[6487    1]\n",
      " [   0    0]]\n",
      "threshold 0.5 \n",
      "svm_2_latih_sampled30_3 \n",
      "hasil prediksi  buyelfie  : (0,1)\n",
      "[[984]]\n",
      "threshold 0.5 \n",
      "svm_2_latih_sampled30_3 \n",
      "hasil prediksi  herbaldb  : (0,1)\n",
      "[[6488]]\n",
      "threshold 0.5 \n",
      "svm_2_latih_sampled30_4 \n",
      "hasil prediksi  buyelfie  : (0,1)\n",
      "[[984]]\n",
      "threshold 0.5 \n",
      "svm_2_latih_sampled30_4 \n",
      "hasil prediksi  herbaldb  : (0,1)\n",
      "[[6488]]\n",
      "threshold 0.5 \n",
      "svm_2_latih_sampled30_5 \n",
      "hasil prediksi  buyelfie  : (0,1)\n",
      "[[984]]\n",
      "threshold 0.5 \n",
      "svm_2_latih_sampled30_5 \n",
      "hasil prediksi  herbaldb  : (0,1)\n",
      "[[6488]]\n"
     ]
    }
   ],
   "source": [
    "pred2_pca('svm_2',0.5,dtt,dtk,2)\n",
    "pred2_pca('svm_2',0.5,dtt,dtk,1)\n",
    "pred2_pca('svm_2',0.5,dtt,dtk,3)\n",
    "pred2_pca('svm_2',0.5,dtt,dtk,4)\n",
    "pred2_pca('svm_2',0.5,dtt,dtk,5)"
   ]
  },
  {
   "cell_type": "code",
   "execution_count": 25,
   "metadata": {},
   "outputs": [
    {
     "name": "stdout",
     "output_type": "stream",
     "text": [
      "threshold 0.5 \n",
      "svm_2_latih_sampled30_2 \n",
      "hasil prediksi  uji_legetan  : (0,1)\n",
      "[[3809]]\n",
      "threshold 0.5 \n",
      "svm_2_latih_sampled30_2 \n",
      "hasil prediksi  uji_inhibitcox2  : (0,1)\n",
      "[[2637]]\n",
      "threshold 0.5 \n",
      "svm_2_latih_sampled30_1 \n",
      "hasil prediksi  uji_legetan  : (0,1)\n",
      "[[3809]]\n",
      "threshold 0.5 \n",
      "svm_2_latih_sampled30_1 \n",
      "hasil prediksi  uji_inhibitcox2  : (0,1)\n",
      "[[2637]]\n",
      "threshold 0.5 \n",
      "svm_2_latih_sampled30_3 \n",
      "hasil prediksi  uji_legetan  : (0,1)\n",
      "[[3809]]\n",
      "threshold 0.5 \n",
      "svm_2_latih_sampled30_3 \n",
      "hasil prediksi  uji_inhibitcox2  : (0,1)\n",
      "[[2637]]\n",
      "threshold 0.5 \n",
      "svm_2_latih_sampled30_4 \n",
      "hasil prediksi  uji_legetan  : (0,1)\n",
      "[[3809]]\n",
      "threshold 0.5 \n",
      "svm_2_latih_sampled30_4 \n",
      "hasil prediksi  uji_inhibitcox2  : (0,1)\n",
      "[[2637]]\n",
      "threshold 0.5 \n",
      "svm_2_latih_sampled30_5 \n",
      "hasil prediksi  uji_legetan  : (0,1)\n",
      "[[3809]]\n",
      "threshold 0.5 \n",
      "svm_2_latih_sampled30_5 \n",
      "hasil prediksi  uji_inhibitcox2  : (0,1)\n",
      "[[2637]]\n"
     ]
    }
   ],
   "source": [
    "pred2_pca('svm_2',0.5,dtg2,dtg3,2)\n",
    "pred2_pca('svm_2',0.5,dtg2,dtg3,1)\n",
    "pred2_pca('svm_2',0.5,dtg2,dtg3,3)\n",
    "pred2_pca('svm_2',0.5,dtg2,dtg3,4)\n",
    "pred2_pca('svm_2',0.5,dtg2,dtg3,5)"
   ]
  },
  {
   "cell_type": "code",
   "execution_count": 37,
   "metadata": {},
   "outputs": [
    {
     "name": "stdout",
     "output_type": "stream",
     "text": [
      "threshold 0.5 \n",
      "rf_latih_sampled30_2 \n",
      "hasil prediksi  buyelfie  : (0,1)\n",
      "[[497 487]\n",
      " [  0   0]]\n",
      "threshold 0.5 \n",
      "rf_latih_sampled30_2 \n",
      "hasil prediksi  herbaldb  : (0,1)\n",
      "[[3854 2634]\n",
      " [   0    0]]\n",
      "threshold 0.5 \n",
      "rf_latih_sampled30_1 \n",
      "hasil prediksi  buyelfie  : (0,1)\n",
      "[[500 484]\n",
      " [  0   0]]\n",
      "threshold 0.5 \n",
      "rf_latih_sampled30_1 \n",
      "hasil prediksi  herbaldb  : (0,1)\n",
      "[[4174 2314]\n",
      " [   0    0]]\n",
      "threshold 0.5 \n",
      "rf_latih_sampled30_3 \n",
      "hasil prediksi  buyelfie  : (0,1)\n",
      "[[516 468]\n",
      " [  0   0]]\n",
      "threshold 0.5 \n",
      "rf_latih_sampled30_3 \n",
      "hasil prediksi  herbaldb  : (0,1)\n",
      "[[4377 2111]\n",
      " [   0    0]]\n",
      "threshold 0.5 \n",
      "rf_latih_sampled30_4 \n",
      "hasil prediksi  buyelfie  : (0,1)\n",
      "[[504 480]\n",
      " [  0   0]]\n",
      "threshold 0.5 \n",
      "rf_latih_sampled30_4 \n",
      "hasil prediksi  herbaldb  : (0,1)\n",
      "[[4212 2276]\n",
      " [   0    0]]\n",
      "threshold 0.5 \n",
      "rf_latih_sampled30_5 \n",
      "hasil prediksi  buyelfie  : (0,1)\n",
      "[[504 480]\n",
      " [  0   0]]\n",
      "threshold 0.5 \n",
      "rf_latih_sampled30_5 \n",
      "hasil prediksi  herbaldb  : (0,1)\n",
      "[[4163 2325]\n",
      " [   0    0]]\n"
     ]
    }
   ],
   "source": [
    "pred2('rf',0.5,dtt,dtk,2)\n",
    "pred2('rf',0.5,dtt,dtk,1)\n",
    "pred2('rf',0.5,dtt,dtk,3)\n",
    "pred2('rf',0.5,dtt,dtk,4)\n",
    "pred2('rf',0.5,dtt,dtk,5)"
   ]
  },
  {
   "cell_type": "code",
   "execution_count": 26,
   "metadata": {},
   "outputs": [
    {
     "name": "stdout",
     "output_type": "stream",
     "text": [
      "threshold 0.5 \n",
      "rf_latih_sampled30_2 \n",
      "hasil prediksi  uji_legetan  : (0,1)\n",
      "[[3809]]\n",
      "threshold 0.5 \n",
      "rf_latih_sampled30_2 \n",
      "hasil prediksi  uji_inhibitcox2  : (0,1)\n",
      "[[2637]]\n",
      "threshold 0.5 \n",
      "rf_latih_sampled30_1 \n",
      "hasil prediksi  uji_legetan  : (0,1)\n",
      "[[3809]]\n",
      "threshold 0.5 \n",
      "rf_latih_sampled30_1 \n",
      "hasil prediksi  uji_inhibitcox2  : (0,1)\n",
      "[[2637]]\n",
      "threshold 0.5 \n",
      "rf_latih_sampled30_3 \n",
      "hasil prediksi  uji_legetan  : (0,1)\n",
      "[[3807    2]\n",
      " [   0    0]]\n",
      "threshold 0.5 \n",
      "rf_latih_sampled30_3 \n",
      "hasil prediksi  uji_inhibitcox2  : (0,1)\n",
      "[[2637]]\n",
      "threshold 0.5 \n",
      "rf_latih_sampled30_4 \n",
      "hasil prediksi  uji_legetan  : (0,1)\n",
      "[[3806    3]\n",
      " [   0    0]]\n",
      "threshold 0.5 \n",
      "rf_latih_sampled30_4 \n",
      "hasil prediksi  uji_inhibitcox2  : (0,1)\n",
      "[[2637]]\n",
      "threshold 0.5 \n",
      "rf_latih_sampled30_5 \n",
      "hasil prediksi  uji_legetan  : (0,1)\n",
      "[[3806    3]\n",
      " [   0    0]]\n",
      "threshold 0.5 \n",
      "rf_latih_sampled30_5 \n",
      "hasil prediksi  uji_inhibitcox2  : (0,1)\n",
      "[[2637]]\n"
     ]
    }
   ],
   "source": [
    "pred2('rf',0.5,dtg2,dtg3,2)\n",
    "pred2('rf',0.5,dtg2,dtg3,1)\n",
    "pred2('rf',0.5,dtg2,dtg3,3)\n",
    "pred2('rf',0.5,dtg2,dtg3,4)\n",
    "pred2('rf',0.5,dtg2,dtg3,5)"
   ]
  },
  {
   "cell_type": "code",
   "execution_count": 38,
   "metadata": {},
   "outputs": [
    {
     "name": "stdout",
     "output_type": "stream",
     "text": [
      "threshold 0.5 \n",
      "mlp_latih_sampled30_2 \n",
      "hasil prediksi  buyelfie  : (0,1)\n",
      "[[556 428]\n",
      " [  0   0]]\n",
      "threshold 0.5 \n",
      "mlp_latih_sampled30_2 \n",
      "hasil prediksi  herbaldb  : (0,1)\n",
      "[[4045 2443]\n",
      " [   0    0]]\n",
      "threshold 0.5 \n",
      "mlp_latih_sampled30_1 \n",
      "hasil prediksi  buyelfie  : (0,1)\n",
      "[[584 400]\n",
      " [  0   0]]\n",
      "threshold 0.5 \n",
      "mlp_latih_sampled30_1 \n",
      "hasil prediksi  herbaldb  : (0,1)\n",
      "[[3846 2642]\n",
      " [   0    0]]\n",
      "threshold 0.5 \n",
      "mlp_latih_sampled30_3 \n",
      "hasil prediksi  buyelfie  : (0,1)\n",
      "[[658 326]\n",
      " [  0   0]]\n",
      "threshold 0.5 \n",
      "mlp_latih_sampled30_3 \n",
      "hasil prediksi  herbaldb  : (0,1)\n",
      "[[4869 1619]\n",
      " [   0    0]]\n",
      "threshold 0.5 \n",
      "mlp_latih_sampled30_4 \n",
      "hasil prediksi  buyelfie  : (0,1)\n",
      "[[761 223]\n",
      " [  0   0]]\n",
      "threshold 0.5 \n",
      "mlp_latih_sampled30_4 \n",
      "hasil prediksi  herbaldb  : (0,1)\n",
      "[[4957 1531]\n",
      " [   0    0]]\n",
      "threshold 0.5 \n",
      "mlp_latih_sampled30_5 \n",
      "hasil prediksi  buyelfie  : (0,1)\n",
      "[[679 305]\n",
      " [  0   0]]\n",
      "threshold 0.5 \n",
      "mlp_latih_sampled30_5 \n",
      "hasil prediksi  herbaldb  : (0,1)\n",
      "[[4820 1668]\n",
      " [   0    0]]\n"
     ]
    }
   ],
   "source": [
    "pred2('mlp',0.5,dtt,dtk,2)\n",
    "pred2('mlp',0.5,dtt,dtk,1)\n",
    "pred2('mlp',0.5,dtt,dtk,3)\n",
    "pred2('mlp',0.5,dtt,dtk,4)\n",
    "pred2('mlp',0.5,dtt,dtk,5)"
   ]
  },
  {
   "cell_type": "code",
   "execution_count": 17,
   "metadata": {},
   "outputs": [
    {
     "name": "stdout",
     "output_type": "stream",
     "text": [
      "threshold 0.5 \n",
      "mlp_latih_sampled30_2 \n",
      "hasil prediksi  uji_legetan  : (0,1)\n",
      "[[3727   82]\n",
      " [   0    0]]\n",
      "threshold 0.5 \n",
      "mlp_latih_sampled30_2 \n",
      "hasil prediksi  uji_inhibitcox2  : (0,1)\n",
      "[[2507  130]\n",
      " [   0    0]]\n",
      "threshold 0.5 \n",
      "mlp_latih_sampled30_1 \n",
      "hasil prediksi  uji_legetan  : (0,1)\n",
      "[[3668  141]\n",
      " [   0    0]]\n",
      "threshold 0.5 \n",
      "mlp_latih_sampled30_1 \n",
      "hasil prediksi  uji_inhibitcox2  : (0,1)\n",
      "[[2515  122]\n",
      " [   0    0]]\n",
      "threshold 0.5 \n",
      "mlp_latih_sampled30_3 \n",
      "hasil prediksi  uji_legetan  : (0,1)\n",
      "[[3723   86]\n",
      " [   0    0]]\n",
      "threshold 0.5 \n",
      "mlp_latih_sampled30_3 \n",
      "hasil prediksi  uji_inhibitcox2  : (0,1)\n",
      "[[2619   18]\n",
      " [   0    0]]\n",
      "threshold 0.5 \n",
      "mlp_latih_sampled30_4 \n",
      "hasil prediksi  uji_legetan  : (0,1)\n",
      "[[3650  159]\n",
      " [   0    0]]\n",
      "threshold 0.5 \n",
      "mlp_latih_sampled30_4 \n",
      "hasil prediksi  uji_inhibitcox2  : (0,1)\n",
      "[[2517  120]\n",
      " [   0    0]]\n",
      "threshold 0.5 \n",
      "mlp_latih_sampled30_5 \n",
      "hasil prediksi  uji_legetan  : (0,1)\n",
      "[[3743   66]\n",
      " [   0    0]]\n",
      "threshold 0.5 \n",
      "mlp_latih_sampled30_5 \n",
      "hasil prediksi  uji_inhibitcox2  : (0,1)\n",
      "[[2535  102]\n",
      " [   0    0]]\n"
     ]
    }
   ],
   "source": [
    "pred2('mlp',0.5,dtg2,dtg3,2)\n",
    "pred2('mlp',0.5,dtg2,dtg3,1)\n",
    "pred2('mlp',0.5,dtg2,dtg3,3)\n",
    "pred2('mlp',0.5,dtg2,dtg3,4)\n",
    "pred2('mlp',0.5,dtg2,dtg3,5)"
   ]
  },
  {
   "cell_type": "code",
   "execution_count": 48,
   "metadata": {},
   "outputs": [
    {
     "name": "stdout",
     "output_type": "stream",
     "text": [
      "threshold 0.5 \n",
      "mlp_hasilsmote_5 \n",
      "hasil prediksi  mbafika  : (0,1)\n",
      "[[194  46]\n",
      " [  0   0]]\n",
      "threshold 0.5 \n",
      "mlp_hasilsmote_5 \n",
      "hasil prediksi  mbalinda  : (0,1)\n",
      "[[2285  763]\n",
      " [   0    0]]\n",
      "threshold 0.5 \n",
      "mlp_hasilsmote_5 \n",
      "hasil prediksi  tambahan  : (0,1)\n",
      "[[14 10]\n",
      " [ 0  0]]\n"
     ]
    }
   ],
   "source": [
    "pred3('mlp',0.5,dtf,dtl,dtt,5)"
   ]
  },
  {
   "cell_type": "code",
   "execution_count": 52,
   "metadata": {},
   "outputs": [],
   "source": [
    "scoring = {'AUC': 'roc_auc', 'Accuracy': 'accuracy','F-measure':'f1','Precision':'precision', 'Recall':'recall'}\n"
   ]
  },
  {
   "cell_type": "code",
   "execution_count": 49,
   "metadata": {},
   "outputs": [],
   "source": [
    "from sklearn import svm"
   ]
  },
  {
   "cell_type": "code",
   "execution_count": 9,
   "metadata": {},
   "outputs": [
    {
     "name": "stdout",
     "output_type": "stream",
     "text": [
      "threshold 0.5 \n",
      "svm_rbf_hasilsmote_5 \n",
      "hasil prediksi  mbafika  : (0,1)\n",
      "[[240]]\n",
      "threshold 0.5 \n",
      "svm_rbf_hasilsmote_5 \n",
      "hasil prediksi  mbalinda  : (0,1)\n",
      "[[2941  107]\n",
      " [   0    0]]\n",
      "threshold 0.5 \n",
      "svm_rbf_hasilsmote_5 \n",
      "hasil prediksi  tambahan  : (0,1)\n",
      "[[16  8]\n",
      " [ 0  0]]\n"
     ]
    }
   ],
   "source": [
    "pred3('svm_rbf',0.5,dtf,dtl,dtt,5)"
   ]
  },
  {
   "cell_type": "code",
   "execution_count": 10,
   "metadata": {},
   "outputs": [
    {
     "name": "stderr",
     "output_type": "stream",
     "text": [
      "D:\\Anaconda3\\lib\\site-packages\\sklearn\\utils\\deprecation.py:144: FutureWarning: The sklearn.svm.classes module is  deprecated in version 0.22 and will be removed in version 0.24. The corresponding classes / functions should instead be imported from sklearn.svm. Anything that cannot be imported from sklearn.svm is now part of the private API.\n",
      "  warnings.warn(message, FutureWarning)\n",
      "D:\\Anaconda3\\lib\\site-packages\\sklearn\\base.py:318: UserWarning: Trying to unpickle estimator SVC from version 0.21.2 when using version 0.22.2.post1. This might lead to breaking code or invalid results. Use at your own risk.\n",
      "  UserWarning)\n",
      "D:\\Anaconda3\\lib\\site-packages\\sklearn\\base.py:318: UserWarning: Trying to unpickle estimator GridSearchCV from version 0.21.2 when using version 0.22.2.post1. This might lead to breaking code or invalid results. Use at your own risk.\n",
      "  UserWarning)\n"
     ]
    },
    {
     "ename": "AttributeError",
     "evalue": "'SVC' object has no attribute '_n_support'",
     "output_type": "error",
     "traceback": [
      "\u001b[1;31m---------------------------------------------------------------------------\u001b[0m",
      "\u001b[1;31mAttributeError\u001b[0m                            Traceback (most recent call last)",
      "\u001b[1;32m<ipython-input-10-fc78881ced4b>\u001b[0m in \u001b[0;36m<module>\u001b[1;34m\u001b[0m\n\u001b[1;32m----> 1\u001b[1;33m \u001b[0mpred3\u001b[0m\u001b[1;33m(\u001b[0m\u001b[1;34m'svm_rbf'\u001b[0m\u001b[1;33m,\u001b[0m\u001b[1;36m0.5\u001b[0m\u001b[1;33m,\u001b[0m\u001b[0mdtf\u001b[0m\u001b[1;33m,\u001b[0m\u001b[0mdtl\u001b[0m\u001b[1;33m,\u001b[0m\u001b[0mdtt\u001b[0m\u001b[1;33m,\u001b[0m\u001b[1;36m4\u001b[0m\u001b[1;33m)\u001b[0m\u001b[1;33m\u001b[0m\u001b[1;33m\u001b[0m\u001b[0m\n\u001b[0m\u001b[0;32m      2\u001b[0m \u001b[0mpred3\u001b[0m\u001b[1;33m(\u001b[0m\u001b[1;34m'svm_rbf'\u001b[0m\u001b[1;33m,\u001b[0m\u001b[1;36m0.5\u001b[0m\u001b[1;33m,\u001b[0m\u001b[0mdtf\u001b[0m\u001b[1;33m,\u001b[0m\u001b[0mdtl\u001b[0m\u001b[1;33m,\u001b[0m\u001b[0mdtt\u001b[0m\u001b[1;33m,\u001b[0m\u001b[1;36m3\u001b[0m\u001b[1;33m)\u001b[0m\u001b[1;33m\u001b[0m\u001b[1;33m\u001b[0m\u001b[0m\n\u001b[0;32m      3\u001b[0m \u001b[0mpred3\u001b[0m\u001b[1;33m(\u001b[0m\u001b[1;34m'svm_rbf'\u001b[0m\u001b[1;33m,\u001b[0m\u001b[1;36m0.5\u001b[0m\u001b[1;33m,\u001b[0m\u001b[0mdtf\u001b[0m\u001b[1;33m,\u001b[0m\u001b[0mdtl\u001b[0m\u001b[1;33m,\u001b[0m\u001b[0mdtt\u001b[0m\u001b[1;33m,\u001b[0m\u001b[1;36m2\u001b[0m\u001b[1;33m)\u001b[0m\u001b[1;33m\u001b[0m\u001b[1;33m\u001b[0m\u001b[0m\n\u001b[0;32m      4\u001b[0m \u001b[0mpred3\u001b[0m\u001b[1;33m(\u001b[0m\u001b[1;34m'svm_rbf'\u001b[0m\u001b[1;33m,\u001b[0m\u001b[1;36m0.5\u001b[0m\u001b[1;33m,\u001b[0m\u001b[0mdtf\u001b[0m\u001b[1;33m,\u001b[0m\u001b[0mdtl\u001b[0m\u001b[1;33m,\u001b[0m\u001b[0mdtt\u001b[0m\u001b[1;33m,\u001b[0m\u001b[1;36m1\u001b[0m\u001b[1;33m)\u001b[0m\u001b[1;33m\u001b[0m\u001b[1;33m\u001b[0m\u001b[0m\n",
      "\u001b[1;32m<ipython-input-7-7a9fe3422aca>\u001b[0m in \u001b[0;36mpred3\u001b[1;34m(model, p, datauji1, datauji2, datauji3, d)\u001b[0m\n\u001b[0;32m      1\u001b[0m \u001b[1;32mdef\u001b[0m \u001b[0mpred3\u001b[0m\u001b[1;33m(\u001b[0m\u001b[0mmodel\u001b[0m\u001b[1;33m,\u001b[0m\u001b[0mp\u001b[0m\u001b[1;33m,\u001b[0m\u001b[0mdatauji1\u001b[0m\u001b[1;33m,\u001b[0m\u001b[0mdatauji2\u001b[0m\u001b[1;33m,\u001b[0m\u001b[0mdatauji3\u001b[0m\u001b[1;33m,\u001b[0m\u001b[0md\u001b[0m\u001b[1;33m)\u001b[0m\u001b[1;33m:\u001b[0m\u001b[1;33m\u001b[0m\u001b[1;33m\u001b[0m\u001b[0m\n\u001b[0;32m      2\u001b[0m     \u001b[0mmd\u001b[0m\u001b[1;33m=\u001b[0m\u001b[0mload_model\u001b[0m\u001b[1;33m(\u001b[0m\u001b[0mmodel\u001b[0m\u001b[1;33m,\u001b[0m\u001b[0md\u001b[0m\u001b[1;33m)\u001b[0m\u001b[1;33m\u001b[0m\u001b[1;33m\u001b[0m\u001b[0m\n\u001b[1;32m----> 3\u001b[1;33m     \u001b[0mprediksi\u001b[0m\u001b[1;33m(\u001b[0m\u001b[0mmd\u001b[0m\u001b[1;33m,\u001b[0m\u001b[0mmodel\u001b[0m\u001b[1;33m,\u001b[0m\u001b[0mp\u001b[0m\u001b[1;33m,\u001b[0m\u001b[0mdatauji1\u001b[0m\u001b[1;33m,\u001b[0m\u001b[0md\u001b[0m\u001b[1;33m)\u001b[0m\u001b[1;33m\u001b[0m\u001b[1;33m\u001b[0m\u001b[0m\n\u001b[0m\u001b[0;32m      4\u001b[0m     \u001b[0mprediksi\u001b[0m\u001b[1;33m(\u001b[0m\u001b[0mmd\u001b[0m\u001b[1;33m,\u001b[0m\u001b[0mmodel\u001b[0m\u001b[1;33m,\u001b[0m\u001b[0mp\u001b[0m\u001b[1;33m,\u001b[0m\u001b[0mdatauji2\u001b[0m\u001b[1;33m,\u001b[0m\u001b[0md\u001b[0m\u001b[1;33m)\u001b[0m\u001b[1;33m\u001b[0m\u001b[1;33m\u001b[0m\u001b[0m\n\u001b[0;32m      5\u001b[0m     \u001b[0mprediksi\u001b[0m\u001b[1;33m(\u001b[0m\u001b[0mmd\u001b[0m\u001b[1;33m,\u001b[0m\u001b[0mmodel\u001b[0m\u001b[1;33m,\u001b[0m\u001b[0mp\u001b[0m\u001b[1;33m,\u001b[0m\u001b[0mdatauji3\u001b[0m\u001b[1;33m,\u001b[0m\u001b[0md\u001b[0m\u001b[1;33m)\u001b[0m\u001b[1;33m\u001b[0m\u001b[1;33m\u001b[0m\u001b[0m\n",
      "\u001b[1;32m<ipython-input-6-89067ff91724>\u001b[0m in \u001b[0;36mprediksi\u001b[1;34m(md, model, p, data, d)\u001b[0m\n\u001b[0;32m      1\u001b[0m \u001b[1;32mdef\u001b[0m \u001b[0mprediksi\u001b[0m\u001b[1;33m(\u001b[0m\u001b[0mmd\u001b[0m\u001b[1;33m,\u001b[0m\u001b[0mmodel\u001b[0m\u001b[1;33m,\u001b[0m\u001b[0mp\u001b[0m\u001b[1;33m,\u001b[0m\u001b[0mdata\u001b[0m\u001b[1;33m,\u001b[0m\u001b[0md\u001b[0m\u001b[1;33m)\u001b[0m\u001b[1;33m:\u001b[0m\u001b[1;33m\u001b[0m\u001b[1;33m\u001b[0m\u001b[0m\n\u001b[1;32m----> 2\u001b[1;33m     \u001b[0mpred_x\u001b[0m \u001b[1;33m=\u001b[0m \u001b[0mpd\u001b[0m\u001b[1;33m.\u001b[0m\u001b[0mDataFrame\u001b[0m\u001b[1;33m(\u001b[0m\u001b[0mmd\u001b[0m\u001b[1;33m.\u001b[0m\u001b[0mpredict_proba\u001b[0m\u001b[1;33m(\u001b[0m\u001b[0mdata\u001b[0m\u001b[1;33m.\u001b[0m\u001b[0mx\u001b[0m\u001b[1;33m)\u001b[0m\u001b[1;33m)\u001b[0m\u001b[1;33m\u001b[0m\u001b[1;33m\u001b[0m\u001b[0m\n\u001b[0m\u001b[0;32m      3\u001b[0m     \u001b[0mprob_x\u001b[0m \u001b[1;33m=\u001b[0m \u001b[0mpd\u001b[0m\u001b[1;33m.\u001b[0m\u001b[0mDataFrame\u001b[0m\u001b[1;33m(\u001b[0m\u001b[0mnp\u001b[0m\u001b[1;33m.\u001b[0m\u001b[0mwhere\u001b[0m\u001b[1;33m(\u001b[0m\u001b[0mpred_x\u001b[0m \u001b[1;33m>=\u001b[0m \u001b[0mp\u001b[0m\u001b[1;33m,\u001b[0m \u001b[1;36m1\u001b[0m\u001b[1;33m,\u001b[0m\u001b[1;36m0\u001b[0m\u001b[1;33m)\u001b[0m\u001b[1;33m)\u001b[0m\u001b[1;33m\u001b[0m\u001b[1;33m\u001b[0m\u001b[0m\n\u001b[0;32m      4\u001b[0m     \u001b[0mprint\u001b[0m\u001b[1;33m(\u001b[0m\u001b[1;34m\"threshold {0} \"\u001b[0m\u001b[1;33m.\u001b[0m\u001b[0mformat\u001b[0m\u001b[1;33m(\u001b[0m\u001b[0mp\u001b[0m\u001b[1;33m)\u001b[0m\u001b[1;33m)\u001b[0m\u001b[1;33m\u001b[0m\u001b[1;33m\u001b[0m\u001b[0m\n\u001b[0;32m      5\u001b[0m     \u001b[0mprint\u001b[0m\u001b[1;33m(\u001b[0m\u001b[1;34m\"{0}_hasilsmote_{1} \"\u001b[0m\u001b[1;33m.\u001b[0m\u001b[0mformat\u001b[0m\u001b[1;33m(\u001b[0m\u001b[0mmodel\u001b[0m\u001b[1;33m,\u001b[0m\u001b[0md\u001b[0m\u001b[1;33m)\u001b[0m\u001b[1;33m)\u001b[0m\u001b[1;33m\u001b[0m\u001b[1;33m\u001b[0m\u001b[0m\n",
      "\u001b[1;32mD:\\Anaconda3\\lib\\site-packages\\sklearn\\utils\\metaestimators.py\u001b[0m in \u001b[0;36m<lambda>\u001b[1;34m(*args, **kwargs)\u001b[0m\n\u001b[0;32m    114\u001b[0m \u001b[1;33m\u001b[0m\u001b[0m\n\u001b[0;32m    115\u001b[0m         \u001b[1;31m# lambda, but not partial, allows help() to work with update_wrapper\u001b[0m\u001b[1;33m\u001b[0m\u001b[1;33m\u001b[0m\u001b[1;33m\u001b[0m\u001b[0m\n\u001b[1;32m--> 116\u001b[1;33m         \u001b[0mout\u001b[0m \u001b[1;33m=\u001b[0m \u001b[1;32mlambda\u001b[0m \u001b[1;33m*\u001b[0m\u001b[0margs\u001b[0m\u001b[1;33m,\u001b[0m \u001b[1;33m**\u001b[0m\u001b[0mkwargs\u001b[0m\u001b[1;33m:\u001b[0m \u001b[0mself\u001b[0m\u001b[1;33m.\u001b[0m\u001b[0mfn\u001b[0m\u001b[1;33m(\u001b[0m\u001b[0mobj\u001b[0m\u001b[1;33m,\u001b[0m \u001b[1;33m*\u001b[0m\u001b[0margs\u001b[0m\u001b[1;33m,\u001b[0m \u001b[1;33m**\u001b[0m\u001b[0mkwargs\u001b[0m\u001b[1;33m)\u001b[0m\u001b[1;33m\u001b[0m\u001b[1;33m\u001b[0m\u001b[0m\n\u001b[0m\u001b[0;32m    117\u001b[0m         \u001b[1;31m# update the docstring of the returned function\u001b[0m\u001b[1;33m\u001b[0m\u001b[1;33m\u001b[0m\u001b[1;33m\u001b[0m\u001b[0m\n\u001b[0;32m    118\u001b[0m         \u001b[0mupdate_wrapper\u001b[0m\u001b[1;33m(\u001b[0m\u001b[0mout\u001b[0m\u001b[1;33m,\u001b[0m \u001b[0mself\u001b[0m\u001b[1;33m.\u001b[0m\u001b[0mfn\u001b[0m\u001b[1;33m)\u001b[0m\u001b[1;33m\u001b[0m\u001b[1;33m\u001b[0m\u001b[0m\n",
      "\u001b[1;32mD:\\Anaconda3\\lib\\site-packages\\sklearn\\model_selection\\_search.py\u001b[0m in \u001b[0;36mpredict_proba\u001b[1;34m(self, X)\u001b[0m\n\u001b[0;32m    492\u001b[0m         \"\"\"\n\u001b[0;32m    493\u001b[0m         \u001b[0mself\u001b[0m\u001b[1;33m.\u001b[0m\u001b[0m_check_is_fitted\u001b[0m\u001b[1;33m(\u001b[0m\u001b[1;34m'predict_proba'\u001b[0m\u001b[1;33m)\u001b[0m\u001b[1;33m\u001b[0m\u001b[1;33m\u001b[0m\u001b[0m\n\u001b[1;32m--> 494\u001b[1;33m         \u001b[1;32mreturn\u001b[0m \u001b[0mself\u001b[0m\u001b[1;33m.\u001b[0m\u001b[0mbest_estimator_\u001b[0m\u001b[1;33m.\u001b[0m\u001b[0mpredict_proba\u001b[0m\u001b[1;33m(\u001b[0m\u001b[0mX\u001b[0m\u001b[1;33m)\u001b[0m\u001b[1;33m\u001b[0m\u001b[1;33m\u001b[0m\u001b[0m\n\u001b[0m\u001b[0;32m    495\u001b[0m \u001b[1;33m\u001b[0m\u001b[0m\n\u001b[0;32m    496\u001b[0m     \u001b[1;33m@\u001b[0m\u001b[0mif_delegate_has_method\u001b[0m\u001b[1;33m(\u001b[0m\u001b[0mdelegate\u001b[0m\u001b[1;33m=\u001b[0m\u001b[1;33m(\u001b[0m\u001b[1;34m'best_estimator_'\u001b[0m\u001b[1;33m,\u001b[0m \u001b[1;34m'estimator'\u001b[0m\u001b[1;33m)\u001b[0m\u001b[1;33m)\u001b[0m\u001b[1;33m\u001b[0m\u001b[1;33m\u001b[0m\u001b[0m\n",
      "\u001b[1;32mD:\\Anaconda3\\lib\\site-packages\\sklearn\\svm\\_base.py\u001b[0m in \u001b[0;36m_predict_proba\u001b[1;34m(self, X)\u001b[0m\n\u001b[0;32m    644\u001b[0m         pred_proba = (self._sparse_predict_proba\n\u001b[0;32m    645\u001b[0m                       if self._sparse else self._dense_predict_proba)\n\u001b[1;32m--> 646\u001b[1;33m         \u001b[1;32mreturn\u001b[0m \u001b[0mpred_proba\u001b[0m\u001b[1;33m(\u001b[0m\u001b[0mX\u001b[0m\u001b[1;33m)\u001b[0m\u001b[1;33m\u001b[0m\u001b[1;33m\u001b[0m\u001b[0m\n\u001b[0m\u001b[0;32m    647\u001b[0m \u001b[1;33m\u001b[0m\u001b[0m\n\u001b[0;32m    648\u001b[0m     \u001b[1;33m@\u001b[0m\u001b[0mproperty\u001b[0m\u001b[1;33m\u001b[0m\u001b[1;33m\u001b[0m\u001b[0m\n",
      "\u001b[1;32mD:\\Anaconda3\\lib\\site-packages\\sklearn\\svm\\_base.py\u001b[0m in \u001b[0;36m_dense_predict_proba\u001b[1;34m(self, X)\u001b[0m\n\u001b[0;32m    688\u001b[0m         \u001b[0msvm_type\u001b[0m \u001b[1;33m=\u001b[0m \u001b[0mLIBSVM_IMPL\u001b[0m\u001b[1;33m.\u001b[0m\u001b[0mindex\u001b[0m\u001b[1;33m(\u001b[0m\u001b[0mself\u001b[0m\u001b[1;33m.\u001b[0m\u001b[0m_impl\u001b[0m\u001b[1;33m)\u001b[0m\u001b[1;33m\u001b[0m\u001b[1;33m\u001b[0m\u001b[0m\n\u001b[0;32m    689\u001b[0m         pprob = libsvm.predict_proba(\n\u001b[1;32m--> 690\u001b[1;33m             \u001b[0mX\u001b[0m\u001b[1;33m,\u001b[0m \u001b[0mself\u001b[0m\u001b[1;33m.\u001b[0m\u001b[0msupport_\u001b[0m\u001b[1;33m,\u001b[0m \u001b[0mself\u001b[0m\u001b[1;33m.\u001b[0m\u001b[0msupport_vectors_\u001b[0m\u001b[1;33m,\u001b[0m \u001b[0mself\u001b[0m\u001b[1;33m.\u001b[0m\u001b[0m_n_support\u001b[0m\u001b[1;33m,\u001b[0m\u001b[1;33m\u001b[0m\u001b[1;33m\u001b[0m\u001b[0m\n\u001b[0m\u001b[0;32m    691\u001b[0m             \u001b[0mself\u001b[0m\u001b[1;33m.\u001b[0m\u001b[0m_dual_coef_\u001b[0m\u001b[1;33m,\u001b[0m \u001b[0mself\u001b[0m\u001b[1;33m.\u001b[0m\u001b[0m_intercept_\u001b[0m\u001b[1;33m,\u001b[0m\u001b[1;33m\u001b[0m\u001b[1;33m\u001b[0m\u001b[0m\n\u001b[0;32m    692\u001b[0m             \u001b[0mself\u001b[0m\u001b[1;33m.\u001b[0m\u001b[0mprobA_\u001b[0m\u001b[1;33m,\u001b[0m \u001b[0mself\u001b[0m\u001b[1;33m.\u001b[0m\u001b[0mprobB_\u001b[0m\u001b[1;33m,\u001b[0m\u001b[1;33m\u001b[0m\u001b[1;33m\u001b[0m\u001b[0m\n",
      "\u001b[1;31mAttributeError\u001b[0m: 'SVC' object has no attribute '_n_support'"
     ]
    }
   ],
   "source": [
    "pred3('svm_rbf',0.5,dtf,dtl,dtt,4)\n",
    "pred3('svm_rbf',0.5,dtf,dtl,dtt,3)\n",
    "pred3('svm_rbf',0.5,dtf,dtl,dtt,2)\n",
    "pred3('svm_rbf',0.5,dtf,dtl,dtt,1)"
   ]
  },
  {
   "cell_type": "code",
   "execution_count": 11,
   "metadata": {},
   "outputs": [
    {
     "name": "stderr",
     "output_type": "stream",
     "text": [
      "D:\\Anaconda3\\lib\\site-packages\\sklearn\\utils\\deprecation.py:144: FutureWarning: The sklearn.ensemble.bagging module is  deprecated in version 0.22 and will be removed in version 0.24. The corresponding classes / functions should instead be imported from sklearn.ensemble. Anything that cannot be imported from sklearn.ensemble is now part of the private API.\n",
      "  warnings.warn(message, FutureWarning)\n",
      "D:\\Anaconda3\\lib\\site-packages\\sklearn\\utils\\deprecation.py:144: FutureWarning: The sklearn.tree.tree module is  deprecated in version 0.22 and will be removed in version 0.24. The corresponding classes / functions should instead be imported from sklearn.tree. Anything that cannot be imported from sklearn.tree is now part of the private API.\n",
      "  warnings.warn(message, FutureWarning)\n",
      "D:\\Anaconda3\\lib\\site-packages\\sklearn\\base.py:318: UserWarning: Trying to unpickle estimator DecisionTreeClassifier from version 0.21.2 when using version 0.22.2.post1. This might lead to breaking code or invalid results. Use at your own risk.\n",
      "  UserWarning)\n",
      "D:\\Anaconda3\\lib\\site-packages\\sklearn\\base.py:318: UserWarning: Trying to unpickle estimator BaggingClassifier from version 0.21.2 when using version 0.22.2.post1. This might lead to breaking code or invalid results. Use at your own risk.\n",
      "  UserWarning)\n",
      "D:\\Anaconda3\\lib\\site-packages\\sklearn\\base.py:318: UserWarning: Trying to unpickle estimator GridSearchCV from version 0.21.2 when using version 0.22.2.post1. This might lead to breaking code or invalid results. Use at your own risk.\n",
      "  UserWarning)\n"
     ]
    },
    {
     "name": "stdout",
     "output_type": "stream",
     "text": [
      "threshold 0.5 \n",
      "rf_100n_1000m_hasilsmote_4 \n",
      "hasil prediksi  mbafika  : (0,1)\n",
      "[[120 120]\n",
      " [  0   0]]\n",
      "threshold 0.5 \n",
      "rf_100n_1000m_hasilsmote_4 \n",
      "hasil prediksi  mbalinda  : (0,1)\n",
      "[[1530 1518]\n",
      " [   0    0]]\n",
      "threshold 0.5 \n",
      "rf_100n_1000m_hasilsmote_4 \n",
      "hasil prediksi  tambahan  : (0,1)\n",
      "[[12 12]\n",
      " [ 0  0]]\n"
     ]
    },
    {
     "name": "stderr",
     "output_type": "stream",
     "text": [
      "D:\\Anaconda3\\lib\\site-packages\\sklearn\\base.py:318: UserWarning: Trying to unpickle estimator DecisionTreeClassifier from version 0.21.2 when using version 0.22.2.post1. This might lead to breaking code or invalid results. Use at your own risk.\n",
      "  UserWarning)\n",
      "D:\\Anaconda3\\lib\\site-packages\\sklearn\\base.py:318: UserWarning: Trying to unpickle estimator BaggingClassifier from version 0.21.2 when using version 0.22.2.post1. This might lead to breaking code or invalid results. Use at your own risk.\n",
      "  UserWarning)\n",
      "D:\\Anaconda3\\lib\\site-packages\\sklearn\\base.py:318: UserWarning: Trying to unpickle estimator GridSearchCV from version 0.21.2 when using version 0.22.2.post1. This might lead to breaking code or invalid results. Use at your own risk.\n",
      "  UserWarning)\n"
     ]
    },
    {
     "name": "stdout",
     "output_type": "stream",
     "text": [
      "threshold 0.5 \n",
      "rf_100n_1000m_hasilsmote_3 \n",
      "hasil prediksi  mbafika  : (0,1)\n",
      "[[120 120]\n",
      " [  0   0]]\n",
      "threshold 0.5 \n",
      "rf_100n_1000m_hasilsmote_3 \n",
      "hasil prediksi  mbalinda  : (0,1)\n",
      "[[1563 1485]\n",
      " [   0    0]]\n",
      "threshold 0.5 \n",
      "rf_100n_1000m_hasilsmote_3 \n",
      "hasil prediksi  tambahan  : (0,1)\n",
      "[[12 12]\n",
      " [ 0  0]]\n"
     ]
    },
    {
     "name": "stderr",
     "output_type": "stream",
     "text": [
      "D:\\Anaconda3\\lib\\site-packages\\sklearn\\base.py:318: UserWarning: Trying to unpickle estimator DecisionTreeClassifier from version 0.21.2 when using version 0.22.2.post1. This might lead to breaking code or invalid results. Use at your own risk.\n",
      "  UserWarning)\n",
      "D:\\Anaconda3\\lib\\site-packages\\sklearn\\base.py:318: UserWarning: Trying to unpickle estimator BaggingClassifier from version 0.21.2 when using version 0.22.2.post1. This might lead to breaking code or invalid results. Use at your own risk.\n",
      "  UserWarning)\n",
      "D:\\Anaconda3\\lib\\site-packages\\sklearn\\base.py:318: UserWarning: Trying to unpickle estimator GridSearchCV from version 0.21.2 when using version 0.22.2.post1. This might lead to breaking code or invalid results. Use at your own risk.\n",
      "  UserWarning)\n"
     ]
    },
    {
     "name": "stdout",
     "output_type": "stream",
     "text": [
      "threshold 0.5 \n",
      "rf_100n_1000m_hasilsmote_2 \n",
      "hasil prediksi  mbafika  : (0,1)\n",
      "[[120 120]\n",
      " [  0   0]]\n",
      "threshold 0.5 \n",
      "rf_100n_1000m_hasilsmote_2 \n",
      "hasil prediksi  mbalinda  : (0,1)\n",
      "[[1526 1522]\n",
      " [   0    0]]\n",
      "threshold 0.5 \n",
      "rf_100n_1000m_hasilsmote_2 \n",
      "hasil prediksi  tambahan  : (0,1)\n",
      "[[12 12]\n",
      " [ 0  0]]\n"
     ]
    },
    {
     "name": "stderr",
     "output_type": "stream",
     "text": [
      "D:\\Anaconda3\\lib\\site-packages\\sklearn\\base.py:318: UserWarning: Trying to unpickle estimator DecisionTreeClassifier from version 0.21.2 when using version 0.22.2.post1. This might lead to breaking code or invalid results. Use at your own risk.\n",
      "  UserWarning)\n",
      "D:\\Anaconda3\\lib\\site-packages\\sklearn\\base.py:318: UserWarning: Trying to unpickle estimator BaggingClassifier from version 0.21.2 when using version 0.22.2.post1. This might lead to breaking code or invalid results. Use at your own risk.\n",
      "  UserWarning)\n",
      "D:\\Anaconda3\\lib\\site-packages\\sklearn\\base.py:318: UserWarning: Trying to unpickle estimator GridSearchCV from version 0.21.2 when using version 0.22.2.post1. This might lead to breaking code or invalid results. Use at your own risk.\n",
      "  UserWarning)\n"
     ]
    },
    {
     "name": "stdout",
     "output_type": "stream",
     "text": [
      "threshold 0.5 \n",
      "rf_100n_1000m_hasilsmote_1 \n",
      "hasil prediksi  mbafika  : (0,1)\n",
      "[[144  96]\n",
      " [  0   0]]\n",
      "threshold 0.5 \n",
      "rf_100n_1000m_hasilsmote_1 \n",
      "hasil prediksi  mbalinda  : (0,1)\n",
      "[[1755 1293]\n",
      " [   0    0]]\n",
      "threshold 0.5 \n",
      "rf_100n_1000m_hasilsmote_1 \n",
      "hasil prediksi  tambahan  : (0,1)\n",
      "[[12 12]\n",
      " [ 0  0]]\n"
     ]
    },
    {
     "name": "stderr",
     "output_type": "stream",
     "text": [
      "D:\\Anaconda3\\lib\\site-packages\\sklearn\\base.py:318: UserWarning: Trying to unpickle estimator DecisionTreeClassifier from version 0.21.2 when using version 0.22.2.post1. This might lead to breaking code or invalid results. Use at your own risk.\n",
      "  UserWarning)\n",
      "D:\\Anaconda3\\lib\\site-packages\\sklearn\\base.py:318: UserWarning: Trying to unpickle estimator BaggingClassifier from version 0.21.2 when using version 0.22.2.post1. This might lead to breaking code or invalid results. Use at your own risk.\n",
      "  UserWarning)\n",
      "D:\\Anaconda3\\lib\\site-packages\\sklearn\\base.py:318: UserWarning: Trying to unpickle estimator GridSearchCV from version 0.21.2 when using version 0.22.2.post1. This might lead to breaking code or invalid results. Use at your own risk.\n",
      "  UserWarning)\n"
     ]
    },
    {
     "name": "stdout",
     "output_type": "stream",
     "text": [
      "threshold 0.5 \n",
      "rf_100n_1000m_hasilsmote_5 \n",
      "hasil prediksi  mbafika  : (0,1)\n",
      "[[123 117]\n",
      " [  0   0]]\n",
      "threshold 0.5 \n",
      "rf_100n_1000m_hasilsmote_5 \n",
      "hasil prediksi  mbalinda  : (0,1)\n",
      "[[1773 1275]\n",
      " [   0    0]]\n",
      "threshold 0.5 \n",
      "rf_100n_1000m_hasilsmote_5 \n",
      "hasil prediksi  tambahan  : (0,1)\n",
      "[[13 11]\n",
      " [ 0  0]]\n"
     ]
    }
   ],
   "source": [
    "pred3('rf_100n_1000m',0.5,dtf,dtl,dtt,4)\n",
    "pred3('rf_100n_1000m',0.5,dtf,dtl,dtt,3)\n",
    "pred3('rf_100n_1000m',0.5,dtf,dtl,dtt,2)\n",
    "pred3('rf_100n_1000m',0.5,dtf,dtl,dtt,1)\n",
    "pred3('rf_100n_1000m',0.5,dtf,dtl,dtt,5)"
   ]
  },
  {
   "cell_type": "code",
   "execution_count": null,
   "metadata": {},
   "outputs": [],
   "source": []
  }
 ],
 "metadata": {
  "kernelspec": {
   "display_name": "Python 3",
   "language": "python",
   "name": "python3"
  },
  "language_info": {
   "codemirror_mode": {
    "name": "ipython",
    "version": 3
   },
   "file_extension": ".py",
   "mimetype": "text/x-python",
   "name": "python",
   "nbconvert_exporter": "python",
   "pygments_lexer": "ipython3",
   "version": "3.7.8"
  }
 },
 "nbformat": 4,
 "nbformat_minor": 4
}
