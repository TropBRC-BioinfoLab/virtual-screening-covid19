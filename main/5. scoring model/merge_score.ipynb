{
 "cells": [
  {
   "cell_type": "code",
   "execution_count": 1,
   "metadata": {},
   "outputs": [],
   "source": [
    "import pandas as pd\n",
    "import pickle"
   ]
  },
  {
   "cell_type": "code",
   "execution_count": 2,
   "metadata": {},
   "outputs": [],
   "source": [
    "dd=pd.DataFrame(columns=['AUC','F-measure','Precision','Recall','Accuracy'])\n",
    "dd['AUC']=0"
   ]
  },
  {
   "cell_type": "code",
   "execution_count": 3,
   "metadata": {},
   "outputs": [
    {
     "ename": "KeyError",
     "evalue": "0",
     "output_type": "error",
     "traceback": [
      "\u001b[0;31m---------------------------------------------------------------------------\u001b[0m",
      "\u001b[0;31mKeyError\u001b[0m                                  Traceback (most recent call last)",
      "\u001b[0;32m~/anaconda3/lib/python3.7/site-packages/pandas/core/indexes/base.py\u001b[0m in \u001b[0;36mget_loc\u001b[0;34m(self, key, method, tolerance)\u001b[0m\n\u001b[1;32m   2656\u001b[0m             \u001b[0;32mtry\u001b[0m\u001b[0;34m:\u001b[0m\u001b[0;34m\u001b[0m\u001b[0;34m\u001b[0m\u001b[0m\n\u001b[0;32m-> 2657\u001b[0;31m                 \u001b[0;32mreturn\u001b[0m \u001b[0mself\u001b[0m\u001b[0;34m.\u001b[0m\u001b[0m_engine\u001b[0m\u001b[0;34m.\u001b[0m\u001b[0mget_loc\u001b[0m\u001b[0;34m(\u001b[0m\u001b[0mkey\u001b[0m\u001b[0;34m)\u001b[0m\u001b[0;34m\u001b[0m\u001b[0;34m\u001b[0m\u001b[0m\n\u001b[0m\u001b[1;32m   2658\u001b[0m             \u001b[0;32mexcept\u001b[0m \u001b[0mKeyError\u001b[0m\u001b[0;34m:\u001b[0m\u001b[0;34m\u001b[0m\u001b[0;34m\u001b[0m\u001b[0m\n",
      "\u001b[0;32mpandas/_libs/index.pyx\u001b[0m in \u001b[0;36mpandas._libs.index.IndexEngine.get_loc\u001b[0;34m()\u001b[0m\n",
      "\u001b[0;32mpandas/_libs/index.pyx\u001b[0m in \u001b[0;36mpandas._libs.index.IndexEngine.get_loc\u001b[0;34m()\u001b[0m\n",
      "\u001b[0;32mpandas/_libs/hashtable_class_helper.pxi\u001b[0m in \u001b[0;36mpandas._libs.hashtable.PyObjectHashTable.get_item\u001b[0;34m()\u001b[0m\n",
      "\u001b[0;32mpandas/_libs/hashtable_class_helper.pxi\u001b[0m in \u001b[0;36mpandas._libs.hashtable.PyObjectHashTable.get_item\u001b[0;34m()\u001b[0m\n",
      "\u001b[0;31mKeyError\u001b[0m: 0",
      "\nDuring handling of the above exception, another exception occurred:\n",
      "\u001b[0;31mKeyError\u001b[0m                                  Traceback (most recent call last)",
      "\u001b[0;32m<ipython-input-3-1de514f16c91>\u001b[0m in \u001b[0;36m<module>\u001b[0;34m\u001b[0m\n\u001b[0;32m----> 1\u001b[0;31m \u001b[0mdd\u001b[0m\u001b[0;34m[\u001b[0m\u001b[0;36m0\u001b[0m\u001b[0;34m]\u001b[0m\u001b[0;34m[\u001b[0m\u001b[0;34m'AUC'\u001b[0m\u001b[0;34m]\u001b[0m\u001b[0;34m=\u001b[0m\u001b[0;36m1\u001b[0m\u001b[0;34m\u001b[0m\u001b[0;34m\u001b[0m\u001b[0m\n\u001b[0m",
      "\u001b[0;32m~/anaconda3/lib/python3.7/site-packages/pandas/core/frame.py\u001b[0m in \u001b[0;36m__getitem__\u001b[0;34m(self, key)\u001b[0m\n\u001b[1;32m   2925\u001b[0m             \u001b[0;32mif\u001b[0m \u001b[0mself\u001b[0m\u001b[0;34m.\u001b[0m\u001b[0mcolumns\u001b[0m\u001b[0;34m.\u001b[0m\u001b[0mnlevels\u001b[0m \u001b[0;34m>\u001b[0m \u001b[0;36m1\u001b[0m\u001b[0;34m:\u001b[0m\u001b[0;34m\u001b[0m\u001b[0;34m\u001b[0m\u001b[0m\n\u001b[1;32m   2926\u001b[0m                 \u001b[0;32mreturn\u001b[0m \u001b[0mself\u001b[0m\u001b[0;34m.\u001b[0m\u001b[0m_getitem_multilevel\u001b[0m\u001b[0;34m(\u001b[0m\u001b[0mkey\u001b[0m\u001b[0;34m)\u001b[0m\u001b[0;34m\u001b[0m\u001b[0;34m\u001b[0m\u001b[0m\n\u001b[0;32m-> 2927\u001b[0;31m             \u001b[0mindexer\u001b[0m \u001b[0;34m=\u001b[0m \u001b[0mself\u001b[0m\u001b[0;34m.\u001b[0m\u001b[0mcolumns\u001b[0m\u001b[0;34m.\u001b[0m\u001b[0mget_loc\u001b[0m\u001b[0;34m(\u001b[0m\u001b[0mkey\u001b[0m\u001b[0;34m)\u001b[0m\u001b[0;34m\u001b[0m\u001b[0;34m\u001b[0m\u001b[0m\n\u001b[0m\u001b[1;32m   2928\u001b[0m             \u001b[0;32mif\u001b[0m \u001b[0mis_integer\u001b[0m\u001b[0;34m(\u001b[0m\u001b[0mindexer\u001b[0m\u001b[0;34m)\u001b[0m\u001b[0;34m:\u001b[0m\u001b[0;34m\u001b[0m\u001b[0;34m\u001b[0m\u001b[0m\n\u001b[1;32m   2929\u001b[0m                 \u001b[0mindexer\u001b[0m \u001b[0;34m=\u001b[0m \u001b[0;34m[\u001b[0m\u001b[0mindexer\u001b[0m\u001b[0;34m]\u001b[0m\u001b[0;34m\u001b[0m\u001b[0;34m\u001b[0m\u001b[0m\n",
      "\u001b[0;32m~/anaconda3/lib/python3.7/site-packages/pandas/core/indexes/base.py\u001b[0m in \u001b[0;36mget_loc\u001b[0;34m(self, key, method, tolerance)\u001b[0m\n\u001b[1;32m   2657\u001b[0m                 \u001b[0;32mreturn\u001b[0m \u001b[0mself\u001b[0m\u001b[0;34m.\u001b[0m\u001b[0m_engine\u001b[0m\u001b[0;34m.\u001b[0m\u001b[0mget_loc\u001b[0m\u001b[0;34m(\u001b[0m\u001b[0mkey\u001b[0m\u001b[0;34m)\u001b[0m\u001b[0;34m\u001b[0m\u001b[0;34m\u001b[0m\u001b[0m\n\u001b[1;32m   2658\u001b[0m             \u001b[0;32mexcept\u001b[0m \u001b[0mKeyError\u001b[0m\u001b[0;34m:\u001b[0m\u001b[0;34m\u001b[0m\u001b[0;34m\u001b[0m\u001b[0m\n\u001b[0;32m-> 2659\u001b[0;31m                 \u001b[0;32mreturn\u001b[0m \u001b[0mself\u001b[0m\u001b[0;34m.\u001b[0m\u001b[0m_engine\u001b[0m\u001b[0;34m.\u001b[0m\u001b[0mget_loc\u001b[0m\u001b[0;34m(\u001b[0m\u001b[0mself\u001b[0m\u001b[0;34m.\u001b[0m\u001b[0m_maybe_cast_indexer\u001b[0m\u001b[0;34m(\u001b[0m\u001b[0mkey\u001b[0m\u001b[0;34m)\u001b[0m\u001b[0;34m)\u001b[0m\u001b[0;34m\u001b[0m\u001b[0;34m\u001b[0m\u001b[0m\n\u001b[0m\u001b[1;32m   2660\u001b[0m         \u001b[0mindexer\u001b[0m \u001b[0;34m=\u001b[0m \u001b[0mself\u001b[0m\u001b[0;34m.\u001b[0m\u001b[0mget_indexer\u001b[0m\u001b[0;34m(\u001b[0m\u001b[0;34m[\u001b[0m\u001b[0mkey\u001b[0m\u001b[0;34m]\u001b[0m\u001b[0;34m,\u001b[0m \u001b[0mmethod\u001b[0m\u001b[0;34m=\u001b[0m\u001b[0mmethod\u001b[0m\u001b[0;34m,\u001b[0m \u001b[0mtolerance\u001b[0m\u001b[0;34m=\u001b[0m\u001b[0mtolerance\u001b[0m\u001b[0;34m)\u001b[0m\u001b[0;34m\u001b[0m\u001b[0;34m\u001b[0m\u001b[0m\n\u001b[1;32m   2661\u001b[0m         \u001b[0;32mif\u001b[0m \u001b[0mindexer\u001b[0m\u001b[0;34m.\u001b[0m\u001b[0mndim\u001b[0m \u001b[0;34m>\u001b[0m \u001b[0;36m1\u001b[0m \u001b[0;32mor\u001b[0m \u001b[0mindexer\u001b[0m\u001b[0;34m.\u001b[0m\u001b[0msize\u001b[0m \u001b[0;34m>\u001b[0m \u001b[0;36m1\u001b[0m\u001b[0;34m:\u001b[0m\u001b[0;34m\u001b[0m\u001b[0;34m\u001b[0m\u001b[0m\n",
      "\u001b[0;32mpandas/_libs/index.pyx\u001b[0m in \u001b[0;36mpandas._libs.index.IndexEngine.get_loc\u001b[0;34m()\u001b[0m\n",
      "\u001b[0;32mpandas/_libs/index.pyx\u001b[0m in \u001b[0;36mpandas._libs.index.IndexEngine.get_loc\u001b[0;34m()\u001b[0m\n",
      "\u001b[0;32mpandas/_libs/hashtable_class_helper.pxi\u001b[0m in \u001b[0;36mpandas._libs.hashtable.PyObjectHashTable.get_item\u001b[0;34m()\u001b[0m\n",
      "\u001b[0;32mpandas/_libs/hashtable_class_helper.pxi\u001b[0m in \u001b[0;36mpandas._libs.hashtable.PyObjectHashTable.get_item\u001b[0;34m()\u001b[0m\n",
      "\u001b[0;31mKeyError\u001b[0m: 0"
     ]
    }
   ],
   "source": [
    "dd[0]['AUC']=1\n"
   ]
  },
  {
   "cell_type": "code",
   "execution_count": 4,
   "metadata": {},
   "outputs": [
    {
     "data": {
      "text/html": [
       "<div>\n",
       "<style scoped>\n",
       "    .dataframe tbody tr th:only-of-type {\n",
       "        vertical-align: middle;\n",
       "    }\n",
       "\n",
       "    .dataframe tbody tr th {\n",
       "        vertical-align: top;\n",
       "    }\n",
       "\n",
       "    .dataframe thead th {\n",
       "        text-align: right;\n",
       "    }\n",
       "</style>\n",
       "<table border=\"1\" class=\"dataframe\">\n",
       "  <thead>\n",
       "    <tr style=\"text-align: right;\">\n",
       "      <th></th>\n",
       "      <th>AUC</th>\n",
       "      <th>F-measure</th>\n",
       "      <th>Precision</th>\n",
       "      <th>Recall</th>\n",
       "      <th>Accuracy</th>\n",
       "    </tr>\n",
       "  </thead>\n",
       "  <tbody>\n",
       "  </tbody>\n",
       "</table>\n",
       "</div>"
      ],
      "text/plain": [
       "Empty DataFrame\n",
       "Columns: [AUC, F-measure, Precision, Recall, Accuracy]\n",
       "Index: []"
      ]
     },
     "execution_count": 4,
     "metadata": {},
     "output_type": "execute_result"
    }
   ],
   "source": [
    "dd=pd.DataFrame(columns=['AUC','F-measure','Precision','Recall','Accuracy'])\n",
    "dd"
   ]
  },
  {
   "cell_type": "code",
   "execution_count": 6,
   "metadata": {},
   "outputs": [],
   "source": [
    "def report_rf(model,d,tambahan):\n",
    "    if tambahan!=\"\":tambahan=\"_\"+tambahan\n",
    "    rf = pickle.load(open('../data2_smpl30_2/model/{0}'.format(model)+tambahan+'_latih_sampled30_{0}'.format(d), 'rb'))\n",
    "    print('model file : {0}'.format(model)+tambahan+'_latih_sampled30_{0}'.format(d))\n",
    "    #print('Parameters used:', rf.get_params() )\n",
    "    print('Best parameters found:', rf.best_params_)\n",
    "    print('CV RESULT :')\n",
    "    dd=pd.DataFrame\n",
    "    print('AUC :',rf.cv_results_['mean_test_AUC'][(rf.cv_results_['rank_test_AUC']-1)[0]])\n",
    "    print('F-measure :',rf.cv_results_['mean_test_F-measure'][(rf.cv_results_['rank_test_F-measure']-1)[0]])\n",
    "    print('Precision :',rf.cv_results_['mean_test_Precision'][(rf.cv_results_['rank_test_Precision']-1)[0]])\n",
    "    print('Recall :',rf.cv_results_['mean_test_Recall'][(rf.cv_results_['rank_test_Recall']-1)[0]])\n",
    "    print('Accuracy :',rf.cv_results_['mean_test_Accuracy'][(rf.cv_results_['rank_test_Accuracy']-1)[0]])\n",
    "    dd=pd.DataFrame([[rf.cv_results_['mean_test_AUC'][(rf.cv_results_['rank_test_AUC']-1)[0]],\n",
    "                                  rf.cv_results_['mean_test_F-measure'][(rf.cv_results_['rank_test_F-measure']-1)[0]],\n",
    "                                  rf.cv_results_['mean_test_Precision'][(rf.cv_results_['rank_test_Precision']-1)[0]],\n",
    "                                  rf.cv_results_['mean_test_Recall'][(rf.cv_results_['rank_test_Recall']-1)[0]],\n",
    "                                  rf.cv_results_['mean_test_Accuracy'][(rf.cv_results_['rank_test_Accuracy']-1)[0]]\n",
    "                                 ]],\n",
    "                                 columns=['AUC','F-measure','Precision','Recall','Accuracy'])\n",
    "    return(dd)"
   ]
  },
  {
   "cell_type": "code",
   "execution_count": 7,
   "metadata": {},
   "outputs": [],
   "source": [
    "def printscore(model,jumlah,tambahan):\n",
    "    aa=pd.DataFrame()\n",
    "    for i in (range(1,jumlah+1)):\n",
    "        bb=report_rf(model,i,tambahan)\n",
    "        aa=pd.concat([aa,bb],axis=0,ignore_index=True)\n",
    "    print(aa)\n",
    "    aa.to_excel(model+tambahan+'.xlsx')"
   ]
  },
  {
   "cell_type": "code",
   "execution_count": 8,
   "metadata": {},
   "outputs": [
    {
     "name": "stdout",
     "output_type": "stream",
     "text": [
      "model file : rf_latih_sampled30_1\n",
      "Best parameters found: {'max_samples': 10000, 'n_estimators': 1000}\n",
      "CV RESULT :\n",
      "AUC : 0.999305295988367\n",
      "F-measure : 0.9856195702337954\n",
      "Precision : 0.9721700760016561\n",
      "Recall : 0.9994572591587516\n",
      "Accuracy : 0.9860850846857826\n",
      "model file : rf_latih_sampled30_2\n",
      "Best parameters found: {'max_samples': 10000, 'n_estimators': 1000}\n",
      "CV RESULT :\n",
      "AUC : 0.999464689786525\n",
      "F-measure : 0.986259724384189\n",
      "Precision : 0.9728996550464757\n",
      "Recall : 1.0\n",
      "Accuracy : 0.9868617418353105\n",
      "model file : rf_latih_sampled30_3\n",
      "Best parameters found: {'max_samples': 10000, 'n_estimators': 1000}\n",
      "CV RESULT :\n",
      "AUC : 0.9990972264675266\n",
      "F-measure : 0.9851885126898076\n",
      "Precision : 0.9708231799368221\n",
      "Recall : 1.0\n",
      "Accuracy : 0.9856969445692109\n",
      "model file : rf_latih_sampled30_4\n",
      "Best parameters found: {'max_samples': 10000, 'n_estimators': 1000}\n",
      "CV RESULT :\n",
      "AUC : 0.999505152430784\n",
      "F-measure : 0.9835576464560145\n",
      "Precision : 0.9676587153132967\n",
      "Recall : 1.0\n",
      "Accuracy : 0.9841434418119628\n",
      "model file : rf_latih_sampled30_5\n",
      "Best parameters found: {'max_samples': 10000, 'n_estimators': 1000}\n",
      "CV RESULT :\n",
      "AUC : 0.9995168183911882\n",
      "F-measure : 0.9856360941727624\n",
      "Precision : 0.9716856239131975\n",
      "Recall : 1.0\n",
      "Accuracy : 0.9862145764035686\n",
      "        AUC  F-measure  Precision    Recall  Accuracy\n",
      "0  0.999305   0.985620   0.972170  0.999457  0.986085\n",
      "1  0.999465   0.986260   0.972900  1.000000  0.986862\n",
      "2  0.999097   0.985189   0.970823  1.000000  0.985697\n",
      "3  0.999505   0.983558   0.967659  1.000000  0.984143\n",
      "4  0.999517   0.985636   0.971686  1.000000  0.986215\n"
     ]
    }
   ],
   "source": [
    "printscore('rf',5,'')"
   ]
  },
  {
   "cell_type": "code",
   "execution_count": 9,
   "metadata": {},
   "outputs": [
    {
     "name": "stdout",
     "output_type": "stream",
     "text": [
      "model file : mlp_latih_sampled30_1\n",
      "Best parameters found: {'alpha': 0.5, 'batch_size': 256, 'learning_rate': 'adaptive'}\n",
      "CV RESULT :\n",
      "AUC : 0.9945650736500837\n",
      "F-measure : 0.9782794593899654\n",
      "Precision : 0.9707172216688003\n",
      "Recall : 0.9960651289009498\n",
      "Accuracy : 0.9791597486805308\n",
      "model file : mlp_latih_sampled30_2\n",
      "Best parameters found: {'alpha': 0.5, 'batch_size': 256, 'learning_rate': 'adaptive'}\n",
      "CV RESULT :\n",
      "AUC : 0.995868440564764\n",
      "F-measure : 0.9817814959655253\n",
      "Precision : 0.9645734772207024\n",
      "Recall : 0.9997254632807138\n",
      "Accuracy : 0.9824603845175315\n",
      "model file : mlp_latih_sampled30_3\n",
      "Best parameters found: {'alpha': 0.5, 'batch_size': 256, 'learning_rate': 'adaptive'}\n",
      "CV RESULT :\n",
      "AUC : 0.9955132587010882\n",
      "F-measure : 0.9776561030413442\n",
      "Precision : 0.9567041837020916\n",
      "Recall : 0.9995915588835942\n",
      "Accuracy : 0.9782538929704048\n",
      "model file : mlp_latih_sampled30_4\n",
      "Best parameters found: {'alpha': 0.5, 'batch_size': 256, 'learning_rate': 'adaptive'}\n",
      "CV RESULT :\n",
      "AUC : 0.9952611923918135\n",
      "F-measure : 0.9815797779958432\n",
      "Precision : 0.9651638112830696\n",
      "Recall : 0.9986348122866893\n",
      "Accuracy : 0.982201505780955\n",
      "model file : mlp_latih_sampled30_5\n",
      "Best parameters found: {'alpha': 0.5, 'batch_size': 256, 'learning_rate': 'adaptive'}\n",
      "CV RESULT :\n",
      "AUC : 0.9950400462716484\n",
      "F-measure : 0.9821446405154962\n",
      "Precision : 0.9678328302033592\n",
      "Recall : 0.9969883641341546\n",
      "Accuracy : 0.9828490481290812\n",
      "        AUC  F-measure  Precision    Recall  Accuracy\n",
      "0  0.994565   0.978279   0.970717  0.996065  0.979160\n",
      "1  0.995868   0.981781   0.964573  0.999725  0.982460\n",
      "2  0.995513   0.977656   0.956704  0.999592  0.978254\n",
      "3  0.995261   0.981580   0.965164  0.998635  0.982202\n",
      "4  0.995040   0.982145   0.967833  0.996988  0.982849\n"
     ]
    }
   ],
   "source": [
    "printscore('mlp',5,'')"
   ]
  },
  {
   "cell_type": "code",
   "execution_count": 10,
   "metadata": {},
   "outputs": [
    {
     "name": "stdout",
     "output_type": "stream",
     "text": [
      "model file : svm_latih_sampled30_1\n",
      "Best parameters found: {'C': 0.5, 'gamma': 2, 'kernel': 'rbf'}\n",
      "CV RESULT :\n",
      "AUC : 0.9998818639132765\n",
      "F-measure : 0.9447299635369495\n",
      "Precision : 0.9987730061349694\n",
      "Recall : 0.9887381275440976\n",
      "Accuracy : 0.9844669407686372\n",
      "model file : svm_latih_sampled30_2\n",
      "Best parameters found: {'C': 0.5, 'gamma': 2, 'kernel': 'rbf'}\n",
      "CV RESULT :\n",
      "AUC : 0.9999251036383562\n",
      "F-measure : 0.9989007673244013\n",
      "Precision : 0.9990383644049103\n",
      "Recall : 0.9987640190968949\n",
      "Accuracy : 0.9989644222342975\n",
      "model file : svm_latih_sampled30_3\n",
      "Best parameters found: {'C': 0.5, 'gamma': 2, 'kernel': 'rbf'}\n",
      "CV RESULT :\n",
      "AUC : 0.9996572469001812\n",
      "F-measure : 0.9981616165754577\n",
      "Precision : 0.9982317499149186\n",
      "Recall : 0.998094311924906\n",
      "Accuracy : 0.9982526156426582\n",
      "model file : svm_latih_sampled30_4\n",
      "Best parameters found: {'C': 0.5, 'gamma': 2, 'kernel': 'rbf'}\n",
      "CV RESULT :\n",
      "AUC : 0.9997633987736044\n",
      "F-measure : 0.9978778522010063\n",
      "Precision : 0.9990423023320695\n",
      "Recall : 0.9967235494880546\n",
      "Accuracy : 0.9979935693876888\n",
      "model file : svm_latih_sampled30_5\n",
      "Best parameters found: {'C': 0.5, 'gamma': 2, 'kernel': 'rbf'}\n",
      "CV RESULT :\n",
      "AUC : 0.9997982687055644\n",
      "F-measure : 0.9980822371381961\n",
      "Precision : 0.9984934254291307\n",
      "Recall : 0.9976728268309378\n",
      "Accuracy : 0.9981877650847697\n",
      "        AUC  F-measure  Precision    Recall  Accuracy\n",
      "0  0.999882   0.944730   0.998773  0.988738  0.984467\n",
      "1  0.999925   0.998901   0.999038  0.998764  0.998964\n",
      "2  0.999657   0.998162   0.998232  0.998094  0.998253\n",
      "3  0.999763   0.997878   0.999042  0.996724  0.997994\n",
      "4  0.999798   0.998082   0.998493  0.997673  0.998188\n"
     ]
    }
   ],
   "source": [
    "printscore('svm',5,'')"
   ]
  },
  {
   "cell_type": "code",
   "execution_count": 93,
   "metadata": {},
   "outputs": [
    {
     "name": "stdout",
     "output_type": "stream",
     "text": [
      "model file : svm_2_latih_sampled30_1\n",
      "Best parameters found: {'C': 0.5, 'gamma': 2, 'kernel': 'rbf'}\n",
      "CV RESULT :\n",
      "AUC : 0.9997734817489642\n",
      "F-measure : 0.9264051924091511\n",
      "Precision : 0.9994169096209913\n",
      "Recall : 0.9720739342698792\n",
      "Accuracy : 0.9811996935520206\n",
      "model file : svm_2_latih_sampled30_2\n",
      "Best parameters found: {'C': 0.5, 'gamma': 2, 'kernel': 'rbf'}\n",
      "CV RESULT :\n",
      "AUC : 0.9997623336537315\n",
      "F-measure : 0.9987578548221648\n",
      "Precision : 0.9978049773549534\n",
      "Recall : 0.9997130559540889\n",
      "Accuracy : 0.9988221354785376\n",
      "model file : svm_2_latih_sampled30_3\n",
      "Best parameters found: {'C': 0.5, 'gamma': 2, 'kernel': 'rbf'}\n",
      "CV RESULT :\n",
      "AUC : 0.9996445026878756\n",
      "F-measure : 0.9988062834501911\n",
      "Precision : 0.997616230068149\n",
      "Recall : 1.0\n",
      "Accuracy : 0.9988674150661362\n",
      "model file : svm_2_latih_sampled30_4\n",
      "Best parameters found: {'C': 0.5, 'gamma': 2, 'kernel': 'rbf'}\n",
      "CV RESULT :\n",
      "AUC : 0.9997724880705414\n",
      "F-measure : 0.9987106585623184\n",
      "Precision : 0.9974248462457845\n",
      "Recall : 1.0\n",
      "Accuracy : 0.9987768661537648\n",
      "model file : svm_2_latih_sampled30_5\n",
      "Best parameters found: {'C': 0.5, 'gamma': 2, 'kernel': 'rbf'}\n",
      "CV RESULT :\n",
      "AUC : 0.9997353842507893\n",
      "F-measure : 0.9986632790218115\n",
      "Precision : 0.9973308798946446\n",
      "Recall : 1.0\n",
      "Accuracy : 0.9987315865661663\n",
      "        AUC  F-measure  Precision    Recall  Accuracy\n",
      "0  0.999773   0.926405   0.999417  0.972074  0.981200\n",
      "1  0.999762   0.998758   0.997805  0.999713  0.998822\n",
      "2  0.999645   0.998806   0.997616  1.000000  0.998867\n",
      "3  0.999772   0.998711   0.997425  1.000000  0.998777\n",
      "4  0.999735   0.998663   0.997331  1.000000  0.998732\n"
     ]
    }
   ],
   "source": [
    "printscore('svm_2',5,'')"
   ]
  },
  {
   "cell_type": "code",
   "execution_count": null,
   "metadata": {},
   "outputs": [],
   "source": [
    "def prediksi2(md,model,p,data,d):\n",
    "    pred_x = pd.DataFrame(md.predict_proba(data.X))\n",
    "    prob_x = pd.DataFrame(np.where(pred_x >= p, 1,0))\n",
    "    print(\"threshold {0} \".format(p))\n",
    "    print(\"model_hasilsmote_{0} \".format(d))\n",
    "    print(\"hasil prediksi \",data.dt,\" : (0,1)\")\n",
    "    print(data.Y.value_counts())\n",
    "    print(confusion_matrix(data.Y, prob_x[1]))\n",
    "    pred = pd.DataFrame(prob_x)\n",
    "    #pred[2] = data.com\n",
    "    #pred[3] = data.prot\n",
    "    print('Accuracy:',accuracy_score(data.Y, prob_x[1]))\n",
    "    print('f1:',f1_score(data.Y, prob_x[1]))\n",
    "    print('precision:',precision_score(data.Y, prob_x[1]))\n",
    "    print('recall:',recall_score(data.Y, prob_x[1]))\n",
    "    print('roc_auc:',roc_auc_score(data.Y, prob_x[1]))\n",
    "    print('Confusion matrix:')\n",
    "    print(confusion_matrix(data.Y, prob_x[1]))\n",
    "    print('Results on the train set:')\n",
    "    print(classification_report(data.Y, prob_x[1]))"
   ]
  },
  {
   "cell_type": "code",
   "execution_count": 11,
   "metadata": {},
   "outputs": [],
   "source": [
    "class latih(): \n",
    "    def __init__(self,data): \n",
    "        df = pd.read_csv(\"../data2_smpl30_2/%s.csv\"%data, delimiter=',')\n",
    "        df.head()\n",
    "        self.X = df.drop(['0','1282','0.1'], axis=1)\n",
    "        self.Y = df['0.1']\n",
    "        self.dt=data\n",
    "def dtlatih(data): \n",
    "    return latih(data) "
   ]
  },
  {
   "cell_type": "code",
   "execution_count": 23,
   "metadata": {},
   "outputs": [],
   "source": [
    "def report_rf2(model,d,tambahan):\n",
    "    if tambahan!=\"\":tambahan=\"_\"+tambahan\n",
    "    rf = pickle.load(open('../data2_smpl30_2/model/{0}'.format(model)+tambahan+'_latih_sampled30_{0}'.format(d), 'rb'))\n",
    "    print('model file : {0}'.format(model)+tambahan+'_latih_sampled30_{0}'.format(d))\n",
    "    data=dtlatih('uji_sampled30_{}'.format(d)) #df5.X,df5.Y,df5.dt\n",
    "    pred_x = pd.DataFrame(rf.predict_proba(data.X))\n",
    "    prob_x = pd.DataFrame(np.where(pred_x >= 0.5, 1,0))\n",
    "    #print('Parameters used:', rf.get_params() )\n",
    "    print('Best parameters found:', rf.best_params_)\n",
    "    print('CV RESULT :')\n",
    "    dd=pd.DataFrame\n",
    "    print('AUC :',roc_auc_score(data.Y, prob_x[1]))\n",
    "    print('F-measure :',f1_score(data.Y, prob_x[1]))\n",
    "    print('Precision :',precision_score(data.Y, prob_x[1]))\n",
    "    print('Recall :',recall_score(data.Y, prob_x[1]))\n",
    "    print('Accuracy :',accuracy_score(data.Y, prob_x[1]))\n",
    "    dd=pd.DataFrame([roc_auc_score(data.Y, prob_x[1]),\n",
    "                     f1_score(data.Y, prob_x[1]),\n",
    "                     precision_score(data.Y, prob_x[1]),\n",
    "                     recall_score(data.Y, prob_x[1]),\n",
    "                     accuracy_score(data.Y, prob_x[1])\n",
    "                    ],)\n",
    "                    #columns=['AUC','F-measure','Precision','Recall','Accuracy'])\n",
    "    return(dd)"
   ]
  },
  {
   "cell_type": "code",
   "execution_count": 24,
   "metadata": {},
   "outputs": [],
   "source": [
    "def printscore2(model,jumlah,tambahan):\n",
    "    aa=pd.DataFrame()\n",
    "    for i in (range(1,jumlah+1)):\n",
    "        bb=report_rf2(model,i,tambahan)\n",
    "        aa=pd.concat([aa,bb],axis=0,ignore_index=True)\n",
    "    print(aa)\n",
    "    aa.to_excel(model+tambahan+'.xlsx')"
   ]
  },
  {
   "cell_type": "code",
   "execution_count": 25,
   "metadata": {},
   "outputs": [],
   "source": [
    "import numpy as np\n",
    "from sklearn.metrics import classification_report\n",
    "from sklearn.metrics import confusion_matrix\n",
    "from sklearn.metrics import accuracy_score,f1_score, precision_score, recall_score, roc_auc_score"
   ]
  },
  {
   "cell_type": "code",
   "execution_count": 26,
   "metadata": {},
   "outputs": [
    {
     "name": "stdout",
     "output_type": "stream",
     "text": [
      "model file : svm_latih_sampled30_1\n"
     ]
    },
    {
     "name": "stderr",
     "output_type": "stream",
     "text": [
      "/home/biofarmaka/anaconda3/lib/python3.7/site-packages/ipykernel_launcher.py:4: DtypeWarning: Columns (0) have mixed types. Specify dtype option on import or set low_memory=False.\n",
      "  after removing the cwd from sys.path.\n"
     ]
    },
    {
     "name": "stdout",
     "output_type": "stream",
     "text": [
      "Best parameters found: {'C': 0.5, 'gamma': 2, 'kernel': 'rbf'}\n",
      "CV RESULT :\n",
      "AUC : 0.9995759117896523\n",
      "F-measure : 0.9995141700404858\n",
      "Precision : 0.9990288119132406\n",
      "Recall : 1.0\n",
      "Accuracy : 0.9995470330665861\n",
      "model file : svm_latih_sampled30_2\n",
      "Best parameters found: {'C': 0.5, 'gamma': 2, 'kernel': 'rbf'}\n",
      "CV RESULT :\n",
      "AUC : 0.9986450440080935\n",
      "F-measure : 0.9985820072475184\n",
      "Precision : 0.9984247006931317\n",
      "Recall : 0.9987393633785061\n",
      "Accuracy : 0.9986410991997584\n",
      "model file : svm_latih_sampled30_3\n",
      "Best parameters found: {'C': 0.5, 'gamma': 2, 'kernel': 'rbf'}\n",
      "CV RESULT :\n",
      "AUC : 0.9995730145175065\n",
      "F-measure : 0.9995179174031817\n",
      "Precision : 0.9990362993896563\n",
      "Recall : 1.0\n",
      "Accuracy : 0.9995470330665861\n",
      "model file : svm_latih_sampled30_4\n",
      "Best parameters found: {'C': 0.5, 'gamma': 2, 'kernel': 'rbf'}\n",
      "CV RESULT :\n",
      "AUC : 0.9987113402061856\n",
      "F-measure : 0.9985648221974166\n",
      "Precision : 0.9971337579617834\n",
      "Recall : 1.0\n",
      "Accuracy : 0.9986410991997584\n",
      "model file : svm_latih_sampled30_5\n"
     ]
    },
    {
     "name": "stderr",
     "output_type": "stream",
     "text": [
      "/home/biofarmaka/anaconda3/lib/python3.7/site-packages/ipykernel_launcher.py:4: DtypeWarning: Columns (0) have mixed types. Specify dtype option on import or set low_memory=False.\n",
      "  after removing the cwd from sys.path.\n"
     ]
    },
    {
     "name": "stdout",
     "output_type": "stream",
     "text": [
      "Best parameters found: {'C': 0.5, 'gamma': 2, 'kernel': 'rbf'}\n",
      "CV RESULT :\n",
      "AUC : 0.999424128995105\n",
      "F-measure : 0.9993654822335025\n",
      "Precision : 0.9987317691819911\n",
      "Recall : 1.0\n",
      "Accuracy : 0.9993960440887815\n",
      "           0\n",
      "0   0.999576\n",
      "1   0.999514\n",
      "2   0.999029\n",
      "3   1.000000\n",
      "4   0.999547\n",
      "5   0.998645\n",
      "6   0.998582\n",
      "7   0.998425\n",
      "8   0.998739\n",
      "9   0.998641\n",
      "10  0.999573\n",
      "11  0.999518\n",
      "12  0.999036\n",
      "13  1.000000\n",
      "14  0.999547\n",
      "15  0.998711\n",
      "16  0.998565\n",
      "17  0.997134\n",
      "18  1.000000\n",
      "19  0.998641\n",
      "20  0.999424\n",
      "21  0.999365\n",
      "22  0.998732\n",
      "23  1.000000\n",
      "24  0.999396\n"
     ]
    }
   ],
   "source": [
    "printscore2('svm',5,'')"
   ]
  },
  {
   "cell_type": "code",
   "execution_count": 27,
   "metadata": {},
   "outputs": [
    {
     "name": "stdout",
     "output_type": "stream",
     "text": [
      "model file : rf_latih_sampled30_1\n"
     ]
    },
    {
     "name": "stderr",
     "output_type": "stream",
     "text": [
      "/home/biofarmaka/anaconda3/lib/python3.7/site-packages/ipykernel_launcher.py:4: DtypeWarning: Columns (0) have mixed types. Specify dtype option on import or set low_memory=False.\n",
      "  after removing the cwd from sys.path.\n"
     ]
    },
    {
     "name": "stdout",
     "output_type": "stream",
     "text": [
      "Best parameters found: {'max_samples': 10000, 'n_estimators': 1000}\n",
      "CV RESULT :\n",
      "AUC : 0.989115069267741\n",
      "F-measure : 0.9876780284845574\n",
      "Precision : 0.9756560227631995\n",
      "Recall : 1.0\n",
      "Accuracy : 0.9883738487090442\n",
      "model file : rf_latih_sampled30_2\n",
      "Best parameters found: {'max_samples': 10000, 'n_estimators': 1000}\n",
      "CV RESULT :\n",
      "AUC : 0.988695652173913\n",
      "F-measure : 0.9878580323785803\n",
      "Precision : 0.9760073823438942\n",
      "Recall : 1.0\n",
      "Accuracy : 0.9882228597312396\n",
      "model file : rf_latih_sampled30_3\n",
      "Best parameters found: {'max_samples': 10000, 'n_estimators': 1000}\n",
      "CV RESULT :\n",
      "AUC : 0.9876174210076857\n",
      "F-measure : 0.9862058030759474\n",
      "Precision : 0.9727869878010635\n",
      "Recall : 1.0\n",
      "Accuracy : 0.986863958930998\n",
      "model file : rf_latih_sampled30_4\n",
      "Best parameters found: {'max_samples': 10000, 'n_estimators': 1000}\n",
      "CV RESULT :\n",
      "AUC : 0.9843928980526919\n",
      "F-measure : 0.9828912258672109\n",
      "Precision : 0.966358024691358\n",
      "Recall : 1.0\n",
      "Accuracy : 0.9835422014192964\n",
      "model file : rf_latih_sampled30_5\n"
     ]
    },
    {
     "name": "stderr",
     "output_type": "stream",
     "text": [
      "/home/biofarmaka/anaconda3/lib/python3.7/site-packages/ipykernel_launcher.py:4: DtypeWarning: Columns (0) have mixed types. Specify dtype option on import or set low_memory=False.\n",
      "  after removing the cwd from sys.path.\n"
     ]
    },
    {
     "name": "stdout",
     "output_type": "stream",
     "text": [
      "Best parameters found: {'max_samples': 10000, 'n_estimators': 1000}\n",
      "CV RESULT :\n",
      "AUC : 0.9868989346386409\n",
      "F-measure : 0.9857612267250822\n",
      "Precision : 0.9719222462203023\n",
      "Recall : 1.0\n",
      "Accuracy : 0.9862600030197796\n",
      "           0\n",
      "0   0.989115\n",
      "1   0.987678\n",
      "2   0.975656\n",
      "3   1.000000\n",
      "4   0.988374\n",
      "5   0.988696\n",
      "6   0.987858\n",
      "7   0.976007\n",
      "8   1.000000\n",
      "9   0.988223\n",
      "10  0.987617\n",
      "11  0.986206\n",
      "12  0.972787\n",
      "13  1.000000\n",
      "14  0.986864\n",
      "15  0.984393\n",
      "16  0.982891\n",
      "17  0.966358\n",
      "18  1.000000\n",
      "19  0.983542\n",
      "20  0.986899\n",
      "21  0.985761\n",
      "22  0.971922\n",
      "23  1.000000\n",
      "24  0.986260\n"
     ]
    }
   ],
   "source": [
    "printscore2('rf',5,'')"
   ]
  },
  {
   "cell_type": "code",
   "execution_count": 28,
   "metadata": {},
   "outputs": [
    {
     "name": "stdout",
     "output_type": "stream",
     "text": [
      "model file : mlp_latih_sampled30_1\n"
     ]
    },
    {
     "name": "stderr",
     "output_type": "stream",
     "text": [
      "/home/biofarmaka/anaconda3/lib/python3.7/site-packages/ipykernel_launcher.py:4: DtypeWarning: Columns (0) have mixed types. Specify dtype option on import or set low_memory=False.\n",
      "  after removing the cwd from sys.path.\n"
     ]
    },
    {
     "name": "stdout",
     "output_type": "stream",
     "text": [
      "Best parameters found: {'alpha': 0.5, 'batch_size': 256, 'learning_rate': 'adaptive'}\n",
      "CV RESULT :\n",
      "AUC : 0.9838846480067854\n",
      "F-measure : 0.9818644607063315\n",
      "Precision : 0.964375\n",
      "Recall : 1.0\n",
      "Accuracy : 0.9827872565302733\n",
      "model file : mlp_latih_sampled30_2\n",
      "Best parameters found: {'alpha': 0.5, 'batch_size': 256, 'learning_rate': 'adaptive'}\n",
      "CV RESULT :\n",
      "AUC : 0.9818840579710144\n",
      "F-measure : 0.9806830474424354\n",
      "Precision : 0.962098241358399\n",
      "Recall : 1.0\n",
      "Accuracy : 0.9811263777744225\n",
      "model file : mlp_latih_sampled30_3\n",
      "Best parameters found: {'alpha': 0.5, 'batch_size': 256, 'learning_rate': 'adaptive'}\n",
      "CV RESULT :\n",
      "AUC : 0.9822037210434739\n",
      "F-measure : 0.9804045512010113\n",
      "Precision : 0.963952765692977\n",
      "Recall : 0.997427652733119\n",
      "Accuracy : 0.9812773667522271\n",
      "model file : mlp_latih_sampled30_4\n",
      "Best parameters found: {'alpha': 0.5, 'batch_size': 256, 'learning_rate': 'adaptive'}\n",
      "CV RESULT :\n",
      "AUC : 0.9836769759450172\n",
      "F-measure : 0.9821204516938519\n",
      "Precision : 0.964869029275809\n",
      "Recall : 1.0\n",
      "Accuracy : 0.9827872565302733\n",
      "model file : mlp_latih_sampled30_5\n"
     ]
    },
    {
     "name": "stderr",
     "output_type": "stream",
     "text": [
      "/home/biofarmaka/anaconda3/lib/python3.7/site-packages/ipykernel_launcher.py:4: DtypeWarning: Columns (0) have mixed types. Specify dtype option on import or set low_memory=False.\n",
      "  after removing the cwd from sys.path.\n"
     ]
    },
    {
     "name": "stdout",
     "output_type": "stream",
     "text": [
      "Best parameters found: {'alpha': 0.5, 'batch_size': 256, 'learning_rate': 'adaptive'}\n",
      "CV RESULT :\n",
      "AUC : 0.9885970228383129\n",
      "F-measure : 0.9876078431372548\n",
      "Precision : 0.9761240310077519\n",
      "Recall : 0.9993650793650793\n",
      "Accuracy : 0.9880718707534349\n",
      "           0\n",
      "0   0.983885\n",
      "1   0.981864\n",
      "2   0.964375\n",
      "3   1.000000\n",
      "4   0.982787\n",
      "5   0.981884\n",
      "6   0.980683\n",
      "7   0.962098\n",
      "8   1.000000\n",
      "9   0.981126\n",
      "10  0.982204\n",
      "11  0.980405\n",
      "12  0.963953\n",
      "13  0.997428\n",
      "14  0.981277\n",
      "15  0.983677\n",
      "16  0.982120\n",
      "17  0.964869\n",
      "18  1.000000\n",
      "19  0.982787\n",
      "20  0.988597\n",
      "21  0.987608\n",
      "22  0.976124\n",
      "23  0.999365\n",
      "24  0.988072\n"
     ]
    }
   ],
   "source": [
    "printscore2('mlp',5,'')"
   ]
  },
  {
   "cell_type": "code",
   "execution_count": null,
   "metadata": {},
   "outputs": [],
   "source": []
  },
  {
   "cell_type": "code",
   "execution_count": null,
   "metadata": {},
   "outputs": [],
   "source": []
  }
 ],
 "metadata": {
  "kernelspec": {
   "display_name": "Python 3",
   "language": "python",
   "name": "python3"
  },
  "language_info": {
   "codemirror_mode": {
    "name": "ipython",
    "version": 3
   },
   "file_extension": ".py",
   "mimetype": "text/x-python",
   "name": "python",
   "nbconvert_exporter": "python",
   "pygments_lexer": "ipython3",
   "version": "3.7.3"
  }
 },
 "nbformat": 4,
 "nbformat_minor": 4
}
